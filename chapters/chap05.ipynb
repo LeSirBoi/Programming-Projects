{
  "cells": [
    {
      "cell_type": "markdown",
      "metadata": {
        "id": "view-in-github",
        "colab_type": "text"
      },
      "source": [
        "<a href=\"https://colab.research.google.com/github/LeSirBoi/Programming-Projects/blob/master/chapters/chap05.ipynb\" target=\"_parent\"><img src=\"https://colab.research.google.com/assets/colab-badge.svg\" alt=\"Open In Colab\"/></a>"
      ]
    },
    {
      "cell_type": "markdown",
      "id": "1331faa1",
      "metadata": {
        "id": "1331faa1"
      },
      "source": [
        "You can order print and ebook versions of *Think Python 3e* from\n",
        "[Bookshop.org](https://bookshop.org/a/98697/9781098155438) and\n",
        "[Amazon](https://www.amazon.com/_/dp/1098155432?smid=ATVPDKIKX0DER&_encoding=UTF8&tag=oreilly20-20&_encoding=UTF8&tag=greenteapre01-20&linkCode=ur2&linkId=e2a529f94920295d27ec8a06e757dc7c&camp=1789&creative=9325)."
      ]
    },
    {
      "cell_type": "code",
      "execution_count": 25,
      "id": "8119ba50",
      "metadata": {
        "tags": [],
        "id": "8119ba50"
      },
      "outputs": [],
      "source": [
        "from os.path import basename, exists\n",
        "\n",
        "def download(url):\n",
        "    filename = basename(url)\n",
        "    if not exists(filename):\n",
        "        from urllib.request import urlretrieve\n",
        "\n",
        "        local, _ = urlretrieve(url, filename)\n",
        "        print(\"Downloaded \" + str(local))\n",
        "    return filename\n",
        "\n",
        "download('https://github.com/AllenDowney/ThinkPython/raw/v3/thinkpython.py');\n",
        "download('https://github.com/AllenDowney/ThinkPython/raw/v3/diagram.py');\n",
        "download('https://github.com/ramalho/jupyturtle/releases/download/2024-03/jupyturtle.py');\n",
        "\n",
        "import thinkpython"
      ]
    },
    {
      "cell_type": "markdown",
      "id": "75b60d6c",
      "metadata": {
        "id": "75b60d6c"
      },
      "source": [
        "# Conditionals and Recursion\n",
        "\n",
        "The main topic of this chapter is the `if` statement, which executes different code depending on the state of the program.\n",
        "And with the `if` statement we'll be able to explore one of the most powerful ideas in computing, **recursion**.\n",
        "\n",
        "But we'll start with three new features: the modulus operator, boolean expressions, and logical operators."
      ]
    },
    {
      "cell_type": "markdown",
      "id": "4ab7caf4",
      "metadata": {
        "id": "4ab7caf4"
      },
      "source": [
        "## Integer division and modulus\n",
        "\n",
        "Recall that the integer division operator, `//`, divides two numbers and rounds\n",
        "down to an integer.\n",
        "For example, suppose the run time of a movie is 105 minutes.\n",
        "You might want to know how long that is in hours.\n",
        "Conventional division returns a floating-point number:"
      ]
    },
    {
      "cell_type": "code",
      "execution_count": 26,
      "id": "30bd0ba7",
      "metadata": {
        "id": "30bd0ba7",
        "outputId": "c7bb5719-ebbc-45d0-939e-f95e3d5c85b2",
        "colab": {
          "base_uri": "https://localhost:8080/"
        }
      },
      "outputs": [
        {
          "output_type": "execute_result",
          "data": {
            "text/plain": [
              "1.75"
            ]
          },
          "metadata": {},
          "execution_count": 26
        }
      ],
      "source": [
        "minutes = 105\n",
        "minutes / 60"
      ]
    },
    {
      "cell_type": "markdown",
      "id": "3f224403",
      "metadata": {
        "id": "3f224403"
      },
      "source": [
        "But we don't normally write hours with decimal points.\n",
        "Integer division returns the integer number of hours, rounding down:"
      ]
    },
    {
      "cell_type": "code",
      "execution_count": 27,
      "id": "451e3198",
      "metadata": {
        "id": "451e3198",
        "outputId": "f42410df-aa4e-4250-8b7e-10afc2b3d688",
        "colab": {
          "base_uri": "https://localhost:8080/"
        }
      },
      "outputs": [
        {
          "output_type": "execute_result",
          "data": {
            "text/plain": [
              "1"
            ]
          },
          "metadata": {},
          "execution_count": 27
        }
      ],
      "source": [
        "minutes = 105\n",
        "hours = minutes // 60\n",
        "hours"
      ]
    },
    {
      "cell_type": "markdown",
      "id": "bfa9b0cf",
      "metadata": {
        "id": "bfa9b0cf"
      },
      "source": [
        "To get the remainder, you could subtract off one hour in minutes:"
      ]
    },
    {
      "cell_type": "code",
      "execution_count": 28,
      "id": "64b92876",
      "metadata": {
        "id": "64b92876",
        "outputId": "f48c96f8-ac64-4318-ba1c-4bcc06119453",
        "colab": {
          "base_uri": "https://localhost:8080/"
        }
      },
      "outputs": [
        {
          "output_type": "execute_result",
          "data": {
            "text/plain": [
              "45"
            ]
          },
          "metadata": {},
          "execution_count": 28
        }
      ],
      "source": [
        "remainder = minutes - hours * 60\n",
        "remainder"
      ]
    },
    {
      "cell_type": "markdown",
      "id": "05caf27f",
      "metadata": {
        "id": "05caf27f"
      },
      "source": [
        "Or you could use the **modulus operator**, `%`, which divides two numbers and returns the remainder."
      ]
    },
    {
      "cell_type": "code",
      "execution_count": 29,
      "id": "0a593844",
      "metadata": {
        "id": "0a593844",
        "outputId": "074e4136-06c7-46fe-f30c-d5ff3014115e",
        "colab": {
          "base_uri": "https://localhost:8080/"
        }
      },
      "outputs": [
        {
          "output_type": "execute_result",
          "data": {
            "text/plain": [
              "45"
            ]
          },
          "metadata": {},
          "execution_count": 29
        }
      ],
      "source": [
        "remainder = minutes % 60\n",
        "remainder"
      ]
    },
    {
      "cell_type": "markdown",
      "id": "18c1e0d0",
      "metadata": {
        "id": "18c1e0d0"
      },
      "source": [
        "The modulus operator is more useful than it might seem.\n",
        "For example, it can check whether one number is divisible by another -- if `x % y` is zero, then `x` is divisible by `y`.\n",
        "\n",
        "Also, it can extract the right-most digit or digits from a number.\n",
        "For example, `x % 10` yields the right-most digit of `x` (in base 10).\n",
        "Similarly, `x % 100` yields the last two digits."
      ]
    },
    {
      "cell_type": "code",
      "execution_count": 30,
      "id": "5bd341f7",
      "metadata": {
        "id": "5bd341f7",
        "outputId": "38216ea6-7aa7-4c72-ce4c-e36283a689fb",
        "colab": {
          "base_uri": "https://localhost:8080/"
        }
      },
      "outputs": [
        {
          "output_type": "execute_result",
          "data": {
            "text/plain": [
              "3"
            ]
          },
          "metadata": {},
          "execution_count": 30
        }
      ],
      "source": [
        "x = 123\n",
        "x % 10"
      ]
    },
    {
      "cell_type": "code",
      "execution_count": 31,
      "id": "367fce0c",
      "metadata": {
        "id": "367fce0c",
        "outputId": "1457f250-822c-4e8c-fbfd-4d103e3e7e7a",
        "colab": {
          "base_uri": "https://localhost:8080/"
        }
      },
      "outputs": [
        {
          "output_type": "execute_result",
          "data": {
            "text/plain": [
              "23"
            ]
          },
          "metadata": {},
          "execution_count": 31
        }
      ],
      "source": [
        "x % 100"
      ]
    },
    {
      "cell_type": "markdown",
      "id": "f2344fc0",
      "metadata": {
        "id": "f2344fc0"
      },
      "source": [
        "Finally, the modulus operator can do \"clock arithmetic\".\n",
        "For example, if an event starts at 11 AM and lasts three hours, we can use the modulus operator to figure out what time it ends."
      ]
    },
    {
      "cell_type": "code",
      "execution_count": 32,
      "id": "db33a44d",
      "metadata": {
        "id": "db33a44d",
        "outputId": "267e7520-42ae-40de-98b1-a49f1a4f88bd",
        "colab": {
          "base_uri": "https://localhost:8080/"
        }
      },
      "outputs": [
        {
          "output_type": "execute_result",
          "data": {
            "text/plain": [
              "2"
            ]
          },
          "metadata": {},
          "execution_count": 32
        }
      ],
      "source": [
        "start = 11\n",
        "duration = 3\n",
        "end = (start + duration) % 12\n",
        "end"
      ]
    },
    {
      "cell_type": "markdown",
      "id": "351c30df",
      "metadata": {
        "id": "351c30df"
      },
      "source": [
        "The event would end at 2 PM."
      ]
    },
    {
      "cell_type": "markdown",
      "id": "5ed1b58b",
      "metadata": {
        "id": "5ed1b58b"
      },
      "source": [
        "## Boolean Expressions\n",
        "\n",
        "A **boolean expression** is an expression that is either true or false.\n",
        "For example, the following expressions use the equals operator, `==`, which compares two values and produces `True` if they are equal and `False` otherwise:"
      ]
    },
    {
      "cell_type": "code",
      "execution_count": 33,
      "id": "85589d38",
      "metadata": {
        "id": "85589d38",
        "outputId": "94a6694a-d71e-425f-9781-3afb5bbd7139",
        "colab": {
          "base_uri": "https://localhost:8080/"
        }
      },
      "outputs": [
        {
          "output_type": "execute_result",
          "data": {
            "text/plain": [
              "True"
            ]
          },
          "metadata": {},
          "execution_count": 33
        }
      ],
      "source": [
        "5 == 5"
      ]
    },
    {
      "cell_type": "code",
      "execution_count": 34,
      "id": "3c9c8f61",
      "metadata": {
        "id": "3c9c8f61",
        "outputId": "42d542ab-89e8-4cca-82ce-e4e338079566",
        "colab": {
          "base_uri": "https://localhost:8080/"
        }
      },
      "outputs": [
        {
          "output_type": "execute_result",
          "data": {
            "text/plain": [
              "False"
            ]
          },
          "metadata": {},
          "execution_count": 34
        }
      ],
      "source": [
        "5 == 7"
      ]
    },
    {
      "cell_type": "markdown",
      "id": "41fbc642",
      "metadata": {
        "id": "41fbc642"
      },
      "source": [
        "A common error is to use a single equal sign (`=`) instead of a double equal sign (`==`).\n",
        "Remember that `=` assigns a value to a variable and `==` compares two values."
      ]
    },
    {
      "cell_type": "code",
      "execution_count": 35,
      "id": "c0e51bcc",
      "metadata": {
        "id": "c0e51bcc"
      },
      "outputs": [],
      "source": [
        "x = 5\n",
        "y = 7"
      ]
    },
    {
      "cell_type": "code",
      "execution_count": 36,
      "id": "a6be44db",
      "metadata": {
        "id": "a6be44db",
        "outputId": "06a9af92-b539-4393-e3c0-632750e18aa5",
        "colab": {
          "base_uri": "https://localhost:8080/"
        }
      },
      "outputs": [
        {
          "output_type": "execute_result",
          "data": {
            "text/plain": [
              "False"
            ]
          },
          "metadata": {},
          "execution_count": 36
        }
      ],
      "source": [
        "x == y"
      ]
    },
    {
      "cell_type": "markdown",
      "id": "d3ec6b48",
      "metadata": {
        "id": "d3ec6b48"
      },
      "source": [
        "`True` and `False` are special values that belong to the type `bool`;\n",
        "they are not strings:"
      ]
    },
    {
      "cell_type": "code",
      "execution_count": 37,
      "id": "90fb1c9c",
      "metadata": {
        "id": "90fb1c9c",
        "outputId": "cdaef0c4-6b6e-4ba5-fcc8-8a8be58614bd",
        "colab": {
          "base_uri": "https://localhost:8080/"
        }
      },
      "outputs": [
        {
          "output_type": "execute_result",
          "data": {
            "text/plain": [
              "bool"
            ]
          },
          "metadata": {},
          "execution_count": 37
        }
      ],
      "source": [
        "type(True)"
      ]
    },
    {
      "cell_type": "code",
      "execution_count": 38,
      "id": "c1cae572",
      "metadata": {
        "id": "c1cae572",
        "outputId": "ce035942-8b11-4c20-9ed2-4dc665e5ad9c",
        "colab": {
          "base_uri": "https://localhost:8080/"
        }
      },
      "outputs": [
        {
          "output_type": "execute_result",
          "data": {
            "text/plain": [
              "bool"
            ]
          },
          "metadata": {},
          "execution_count": 38
        }
      ],
      "source": [
        "type(False)"
      ]
    },
    {
      "cell_type": "markdown",
      "id": "451b2e8d",
      "metadata": {
        "id": "451b2e8d"
      },
      "source": [
        "The `==` operator is one of the **relational operators**; the others are:"
      ]
    },
    {
      "cell_type": "code",
      "execution_count": 39,
      "id": "c901fe2b",
      "metadata": {
        "id": "c901fe2b",
        "outputId": "b8aa59f6-415b-40c6-a2e2-019dc05eac67",
        "colab": {
          "base_uri": "https://localhost:8080/"
        }
      },
      "outputs": [
        {
          "output_type": "execute_result",
          "data": {
            "text/plain": [
              "True"
            ]
          },
          "metadata": {},
          "execution_count": 39
        }
      ],
      "source": [
        "x != y               # x is not equal to y"
      ]
    },
    {
      "cell_type": "code",
      "execution_count": 40,
      "id": "1457949f",
      "metadata": {
        "id": "1457949f",
        "outputId": "d0768756-42ea-4236-9f99-593cecbb7d94",
        "colab": {
          "base_uri": "https://localhost:8080/"
        }
      },
      "outputs": [
        {
          "output_type": "execute_result",
          "data": {
            "text/plain": [
              "False"
            ]
          },
          "metadata": {},
          "execution_count": 40
        }
      ],
      "source": [
        "x > y                # x is greater than y"
      ]
    },
    {
      "cell_type": "code",
      "execution_count": 41,
      "id": "56bb7eed",
      "metadata": {
        "id": "56bb7eed",
        "outputId": "22358f56-b5c4-405d-f880-75de1a5385a9",
        "colab": {
          "base_uri": "https://localhost:8080/"
        }
      },
      "outputs": [
        {
          "output_type": "execute_result",
          "data": {
            "text/plain": [
              "True"
            ]
          },
          "metadata": {},
          "execution_count": 41
        }
      ],
      "source": [
        "x < y               # x is less than to y"
      ]
    },
    {
      "cell_type": "code",
      "execution_count": 42,
      "id": "1cdcc7ab",
      "metadata": {
        "id": "1cdcc7ab",
        "outputId": "b7587ff8-efa6-4197-b068-2d90705c2714",
        "colab": {
          "base_uri": "https://localhost:8080/"
        }
      },
      "outputs": [
        {
          "output_type": "execute_result",
          "data": {
            "text/plain": [
              "False"
            ]
          },
          "metadata": {},
          "execution_count": 42
        }
      ],
      "source": [
        "x >= y               # x is greater than or equal to y"
      ]
    },
    {
      "cell_type": "code",
      "execution_count": 43,
      "id": "df1a1287",
      "metadata": {
        "id": "df1a1287",
        "outputId": "632fa4b4-cac1-4d4e-d13d-c8a1f0ee217e",
        "colab": {
          "base_uri": "https://localhost:8080/"
        }
      },
      "outputs": [
        {
          "output_type": "execute_result",
          "data": {
            "text/plain": [
              "True"
            ]
          },
          "metadata": {},
          "execution_count": 43
        }
      ],
      "source": [
        "x <= y               # x is less than or equal to y"
      ]
    },
    {
      "cell_type": "markdown",
      "id": "db5a9477",
      "metadata": {
        "id": "db5a9477"
      },
      "source": [
        "## Logical operators\n",
        "\n",
        "To combine boolean values into expressions, we can use **logical operators**.\n",
        "The most common are `and`, ` or`, and `not`.\n",
        "The meaning of these operators is similar to their meaning in English.\n",
        "For example, the value of the following expression is `True` only if `x` is greater than `0` *and* less than `10`."
      ]
    },
    {
      "cell_type": "code",
      "execution_count": 44,
      "id": "848c5f2c",
      "metadata": {
        "id": "848c5f2c",
        "outputId": "be03b2f9-42e5-4f0a-ce38-de719ba6abad",
        "colab": {
          "base_uri": "https://localhost:8080/"
        }
      },
      "outputs": [
        {
          "output_type": "execute_result",
          "data": {
            "text/plain": [
              "True"
            ]
          },
          "metadata": {},
          "execution_count": 44
        }
      ],
      "source": [
        "x > 0 and x < 10"
      ]
    },
    {
      "cell_type": "markdown",
      "id": "e8c14026",
      "metadata": {
        "id": "e8c14026"
      },
      "source": [
        "The following expression is `True` if *either or both* of the conditions is true, that is, if the number is divisible by 2 *or* 3:"
      ]
    },
    {
      "cell_type": "code",
      "execution_count": 45,
      "id": "eb66ee6a",
      "metadata": {
        "id": "eb66ee6a",
        "outputId": "966c9fe6-7d4c-4703-bdb8-35b02065cec5",
        "colab": {
          "base_uri": "https://localhost:8080/"
        }
      },
      "outputs": [
        {
          "output_type": "execute_result",
          "data": {
            "text/plain": [
              "False"
            ]
          },
          "metadata": {},
          "execution_count": 45
        }
      ],
      "source": [
        "x % 2 == 0 or x % 3 == 0"
      ]
    },
    {
      "cell_type": "markdown",
      "id": "3bd0ef52",
      "metadata": {
        "id": "3bd0ef52"
      },
      "source": [
        "Finally, the `not` operator negates a boolean expression, so the following expression is `True` if `x > y` is `False`."
      ]
    },
    {
      "cell_type": "code",
      "execution_count": 46,
      "id": "6de8b97c",
      "metadata": {
        "id": "6de8b97c",
        "outputId": "703f0f21-2a85-4f62-bc7d-2d96478af8c6",
        "colab": {
          "base_uri": "https://localhost:8080/"
        }
      },
      "outputs": [
        {
          "output_type": "execute_result",
          "data": {
            "text/plain": [
              "True"
            ]
          },
          "metadata": {},
          "execution_count": 46
        }
      ],
      "source": [
        "not x > y"
      ]
    },
    {
      "cell_type": "markdown",
      "id": "fc6098c2",
      "metadata": {
        "id": "fc6098c2"
      },
      "source": [
        "Strictly speaking, the operands of a logical operator should be boolean expressions, but Python is not very strict.\n",
        "Any nonzero number is interpreted as `True`:"
      ]
    },
    {
      "cell_type": "code",
      "execution_count": 47,
      "id": "add63275",
      "metadata": {
        "id": "add63275",
        "outputId": "83d8b381-5cc2-412f-dabf-644ade147fd6",
        "colab": {
          "base_uri": "https://localhost:8080/"
        }
      },
      "outputs": [
        {
          "output_type": "execute_result",
          "data": {
            "text/plain": [
              "True"
            ]
          },
          "metadata": {},
          "execution_count": 47
        }
      ],
      "source": [
        "42 and True"
      ]
    },
    {
      "cell_type": "markdown",
      "id": "102ceab9",
      "metadata": {
        "id": "102ceab9"
      },
      "source": [
        "This flexibility can be useful, but there are some subtleties to it that can be confusing.\n",
        "You might want to avoid it."
      ]
    },
    {
      "cell_type": "markdown",
      "id": "6b0f2dc1",
      "metadata": {
        "id": "6b0f2dc1"
      },
      "source": [
        "## if statements\n",
        "\n",
        "In order to write useful programs, we almost always need the ability to\n",
        "check conditions and change the behavior of the program accordingly.\n",
        "**Conditional statements** give us this ability. The simplest form is\n",
        "the `if` statement:"
      ]
    },
    {
      "cell_type": "code",
      "execution_count": 48,
      "id": "80937bef",
      "metadata": {
        "id": "80937bef",
        "outputId": "1b3249f1-6445-4d80-cdbf-51154e3810f1",
        "colab": {
          "base_uri": "https://localhost:8080/"
        }
      },
      "outputs": [
        {
          "output_type": "stream",
          "name": "stdout",
          "text": [
            "x is positive\n"
          ]
        }
      ],
      "source": [
        "if x > 0:\n",
        "    print('x is positive')"
      ]
    },
    {
      "cell_type": "markdown",
      "id": "973f705e",
      "metadata": {
        "id": "973f705e"
      },
      "source": [
        "`if` is a Python keyword.\n",
        "`if` statements have the same structure as function definitions: a\n",
        "header followed by an indented statement or sequence of statements called a **block**.\n",
        "\n",
        "The boolean expression after `if` is called the **condition**.\n",
        "If it is true, the statements in the indented block run. If not, they don't.\n",
        "\n",
        "There is no limit to the number of statements that can appear in the block, but there has to be at least one.\n",
        "Occasionally, it is useful to have a block that does nothing -- usually as a place keeper for code you haven't written yet.\n",
        "In that case, you can use the `pass` statement, which does nothing."
      ]
    },
    {
      "cell_type": "code",
      "execution_count": 49,
      "id": "bc74a318",
      "metadata": {
        "id": "bc74a318"
      },
      "outputs": [],
      "source": [
        "if x < 0:\n",
        "    pass          # TODO: need to handle negative values!"
      ]
    },
    {
      "cell_type": "markdown",
      "id": "adf3f6c5",
      "metadata": {
        "id": "adf3f6c5"
      },
      "source": [
        "The word `TODO` in a comment is a conventional reminder that there's something you need to do later."
      ]
    },
    {
      "cell_type": "markdown",
      "id": "eb39bcd9",
      "metadata": {
        "id": "eb39bcd9"
      },
      "source": [
        "## The `else` clause\n",
        "\n",
        "An `if` statement can have a second part, called an `else` clause.\n",
        "The syntax looks like this:"
      ]
    },
    {
      "cell_type": "code",
      "execution_count": 50,
      "id": "d16f49f2",
      "metadata": {
        "id": "d16f49f2",
        "outputId": "011139fc-4769-4a92-ad50-2d1c11d4baa1",
        "colab": {
          "base_uri": "https://localhost:8080/"
        }
      },
      "outputs": [
        {
          "output_type": "stream",
          "name": "stdout",
          "text": [
            "x is odd\n"
          ]
        }
      ],
      "source": [
        "if x % 2 == 0:\n",
        "    print('x is even')\n",
        "else:\n",
        "    print('x is odd')"
      ]
    },
    {
      "cell_type": "markdown",
      "id": "e7dc8943",
      "metadata": {
        "id": "e7dc8943"
      },
      "source": [
        "If the condition is true, the first indented statement runs; otherwise, the second indented statement runs.\n",
        "\n",
        "In this example, if `x` is even, the remainder when `x` is divided by `2` is `0`, so the condition is true and the program displays `x is even`.\n",
        "If `x` is odd, the remainder is `1`, so the condition\n",
        "is false, and the program displays `x is odd`.\n",
        "\n",
        "Since the condition must be true or false, exactly one of the alternatives will run.\n",
        "The alternatives are called **branches**."
      ]
    },
    {
      "cell_type": "markdown",
      "id": "20c8adb6",
      "metadata": {
        "id": "20c8adb6"
      },
      "source": [
        "## Chained conditionals\n",
        "\n",
        "Sometimes there are more than two possibilities and we need more than two branches.\n",
        "One way to express a computation like that is a **chained conditional**, which includes an `elif` clause."
      ]
    },
    {
      "cell_type": "code",
      "execution_count": 51,
      "id": "309fccb8",
      "metadata": {
        "id": "309fccb8",
        "outputId": "fe6aa695-ef19-45db-a329-e78c7b2f27f1",
        "colab": {
          "base_uri": "https://localhost:8080/"
        }
      },
      "outputs": [
        {
          "output_type": "stream",
          "name": "stdout",
          "text": [
            "x is less than y\n"
          ]
        }
      ],
      "source": [
        "if x < y:\n",
        "    print('x is less than y')\n",
        "elif x > y:\n",
        "    print('x is greater than y')\n",
        "else:\n",
        "    print('x and y are equal')"
      ]
    },
    {
      "cell_type": "markdown",
      "id": "46916379",
      "metadata": {
        "id": "46916379"
      },
      "source": [
        "`elif` is an abbreviation of \"else if\".\n",
        "There is no limit on the number of `elif` clauses.\n",
        "If there is an `else` clause, it has to be at the end, but there doesn't have to be\n",
        "one.\n",
        "\n",
        "Each condition is checked in order.\n",
        "If the first is false, the next is checked, and so on.\n",
        "If one of them is true, the corresponding branch runs and the `if` statement ends.\n",
        "Even if more than one condition is true, only the first true branch runs."
      ]
    },
    {
      "cell_type": "markdown",
      "id": "e0c0b9dd",
      "metadata": {
        "id": "e0c0b9dd"
      },
      "source": [
        "## Nested Conditionals\n",
        "\n",
        "One conditional can also be nested within another.\n",
        "We could have written the example in the previous section like this:"
      ]
    },
    {
      "cell_type": "code",
      "execution_count": 52,
      "id": "d77539cf",
      "metadata": {
        "id": "d77539cf",
        "outputId": "c075a10b-52fb-4ecc-b1a7-121a2ba90d70",
        "colab": {
          "base_uri": "https://localhost:8080/"
        }
      },
      "outputs": [
        {
          "output_type": "stream",
          "name": "stdout",
          "text": [
            "x is less than y\n"
          ]
        }
      ],
      "source": [
        "if x == y:\n",
        "    print('x and y are equal')\n",
        "else:\n",
        "    if x < y:\n",
        "        print('x is less than y')\n",
        "    else:\n",
        "        print('x is greater than y')"
      ]
    },
    {
      "cell_type": "markdown",
      "id": "29f67a0a",
      "metadata": {
        "id": "29f67a0a"
      },
      "source": [
        "The outer `if` statement contains two branches.\n",
        "The first branch contains a simple statement. The second branch contains another `if` statement, which has two branches of its own.\n",
        "Those two branches are both simple statements, although they could have been conditional statements as well.\n",
        "\n",
        "Although the indentation of the statements makes the structure apparent, **nested conditionals** can be difficult to read.\n",
        "I suggest you avoid them when you can.\n",
        "\n",
        "Logical operators often provide a way to simplify nested conditional statements.\n",
        "Here's an example with a nested conditional."
      ]
    },
    {
      "cell_type": "code",
      "execution_count": 53,
      "id": "91cac1a0",
      "metadata": {
        "id": "91cac1a0",
        "outputId": "5d036263-7101-46a0-ce9f-6915ed5d14ef",
        "colab": {
          "base_uri": "https://localhost:8080/"
        }
      },
      "outputs": [
        {
          "output_type": "stream",
          "name": "stdout",
          "text": [
            "x is a positive single-digit number.\n"
          ]
        }
      ],
      "source": [
        "if 0 < x:\n",
        "    if x < 10:\n",
        "        print('x is a positive single-digit number.')"
      ]
    },
    {
      "cell_type": "markdown",
      "id": "5292eb11",
      "metadata": {
        "id": "5292eb11"
      },
      "source": [
        "The `print` statement runs only if we make it past both conditionals, so we get the same effect with the `and` operator."
      ]
    },
    {
      "cell_type": "code",
      "execution_count": 54,
      "id": "f8ba1724",
      "metadata": {
        "id": "f8ba1724",
        "outputId": "7aa50946-5102-4afa-af98-404f7a43ed76",
        "colab": {
          "base_uri": "https://localhost:8080/"
        }
      },
      "outputs": [
        {
          "output_type": "stream",
          "name": "stdout",
          "text": [
            "x is a positive single-digit number.\n"
          ]
        }
      ],
      "source": [
        "if 0 < x and x < 10:\n",
        "    print('x is a positive single-digit number.')"
      ]
    },
    {
      "cell_type": "markdown",
      "id": "dd8e808a",
      "metadata": {
        "id": "dd8e808a"
      },
      "source": [
        "For this kind of condition, Python provides a more concise option:"
      ]
    },
    {
      "cell_type": "code",
      "execution_count": 55,
      "id": "014cd6f4",
      "metadata": {
        "id": "014cd6f4",
        "outputId": "d5f8e557-8f1f-47c3-8264-b550947f979d",
        "colab": {
          "base_uri": "https://localhost:8080/"
        }
      },
      "outputs": [
        {
          "output_type": "stream",
          "name": "stdout",
          "text": [
            "x is a positive single-digit number.\n"
          ]
        }
      ],
      "source": [
        "if 0 < x < 10:\n",
        "    print('x is a positive single-digit number.')"
      ]
    },
    {
      "cell_type": "markdown",
      "id": "db583cd9",
      "metadata": {
        "id": "db583cd9"
      },
      "source": [
        "## Recursion\n",
        "\n",
        "It is legal for a function to call itself.\n",
        "It may not be obvious why that is a good thing, but it turns out to be one of the most magical things a program can do.\n",
        "Here's an example."
      ]
    },
    {
      "cell_type": "code",
      "execution_count": 56,
      "id": "17904e98",
      "metadata": {
        "id": "17904e98"
      },
      "outputs": [],
      "source": [
        "def countdown(n):\n",
        "    if n <= 0:\n",
        "        print('Blastoff!')\n",
        "    else:\n",
        "        print(n)\n",
        "        countdown(n-1)"
      ]
    },
    {
      "cell_type": "markdown",
      "id": "c88e0dc7",
      "metadata": {
        "id": "c88e0dc7"
      },
      "source": [
        "If `n` is 0 or negative, `countdown` outputs the word, \"Blastoff!\" Otherwise, it\n",
        "outputs `n` and then calls itself, passing `n-1` as an argument.\n",
        "\n",
        "Here's what happens when we call this function with the argument `3`."
      ]
    },
    {
      "cell_type": "code",
      "execution_count": 57,
      "id": "6c1e32e2",
      "metadata": {
        "id": "6c1e32e2",
        "outputId": "066b4df9-f479-44d4-9497-d92efdbdfd82",
        "colab": {
          "base_uri": "https://localhost:8080/"
        }
      },
      "outputs": [
        {
          "output_type": "stream",
          "name": "stdout",
          "text": [
            "3\n",
            "2\n",
            "1\n",
            "Blastoff!\n"
          ]
        }
      ],
      "source": [
        "countdown(3)"
      ]
    },
    {
      "cell_type": "markdown",
      "id": "3f3c87ec",
      "metadata": {
        "id": "3f3c87ec"
      },
      "source": [
        "The execution of `countdown` begins with `n=3`, and since `n` is greater\n",
        "than `0`, it displays `3`, and then calls itself\\...\n",
        "\n",
        "> The execution of `countdown` begins with `n=2`, and since `n` is\n",
        "> greater than `0`, it displays `2`, and then calls itself\\...\n",
        ">\n",
        "> > The execution of `countdown` begins with `n=1`, and since `n` is\n",
        "> > greater than `0`, it displays `1`, and then calls itself\\...\n",
        "> >\n",
        "> > > The execution of `countdown` begins with `n=0`, and since `n` is\n",
        "> > > not greater than `0`, it displays \"Blastoff!\" and returns.\n",
        "> >\n",
        "> > The `countdown` that got `n=1` returns.\n",
        ">\n",
        "> The `countdown` that got `n=2` returns.\n",
        "\n",
        "The `countdown` that got `n=3` returns."
      ]
    },
    {
      "cell_type": "markdown",
      "id": "782e95bb",
      "metadata": {
        "id": "782e95bb"
      },
      "source": [
        "A function that calls itself is **recursive**.\n",
        "As another example, we can write a function that prints a string `n` times."
      ]
    },
    {
      "cell_type": "code",
      "execution_count": 58,
      "id": "1bb13f8e",
      "metadata": {
        "id": "1bb13f8e"
      },
      "outputs": [],
      "source": [
        "def print_n_times(string, n):\n",
        "    if n > 0:\n",
        "        print(string)\n",
        "        print_n_times(string, n-1)"
      ]
    },
    {
      "cell_type": "markdown",
      "id": "73d07c17",
      "metadata": {
        "id": "73d07c17"
      },
      "source": [
        "If `n` is positive, `print_n_times` displays the value of `string` and then calls itself, passing along `string` and `n-1` as arguments.\n",
        "\n",
        "If `n` is `0` or negative, the condition is false and `print_n_times` does nothing.\n",
        "\n",
        "Here's how it works."
      ]
    },
    {
      "cell_type": "code",
      "execution_count": 59,
      "id": "e7b68c57",
      "metadata": {
        "id": "e7b68c57",
        "outputId": "8b51a422-0adb-400b-f13c-11b2e67a0b90",
        "colab": {
          "base_uri": "https://localhost:8080/"
        }
      },
      "outputs": [
        {
          "output_type": "stream",
          "name": "stdout",
          "text": [
            "Spam \n",
            "Spam \n",
            "Spam \n",
            "Spam \n"
          ]
        }
      ],
      "source": [
        "print_n_times('Spam ', 4)"
      ]
    },
    {
      "cell_type": "markdown",
      "id": "1fb55a78",
      "metadata": {
        "id": "1fb55a78"
      },
      "source": [
        "For simple examples like this, it is probably easier to use a `for`\n",
        "loop. But we will see examples later that are hard to write with a `for`\n",
        "loop and easy to write with recursion, so it is good to start early."
      ]
    },
    {
      "cell_type": "markdown",
      "id": "c652c739",
      "metadata": {
        "id": "c652c739"
      },
      "source": [
        "## Stack diagrams for recursive functions\n",
        "\n",
        "Here's a stack diagram that shows the frames created when we called `countdown` with `n = 3`."
      ]
    },
    {
      "cell_type": "code",
      "execution_count": 60,
      "id": "643148da",
      "metadata": {
        "tags": [],
        "id": "643148da"
      },
      "outputs": [],
      "source": [
        "from diagram import make_frame, Stack\n",
        "\n",
        "frames = []\n",
        "for n in [3,2,1,0]:\n",
        "    d = dict(n=n)\n",
        "    frame = make_frame(d, name='countdown', dy=-0.3, loc='left')\n",
        "    frames.append(frame)\n",
        "\n",
        "stack = Stack(frames, dy=-0.5)"
      ]
    },
    {
      "cell_type": "code",
      "execution_count": 61,
      "id": "a8510119",
      "metadata": {
        "tags": [],
        "id": "a8510119",
        "outputId": "2e29728a-fb81-4cf0-9447-568cca19bbfe",
        "colab": {
          "base_uri": "https://localhost:8080/",
          "height": 241
        }
      },
      "outputs": [
        {
          "output_type": "display_data",
          "data": {
            "text/plain": [
              "<Figure size 174x204 with 1 Axes>"
            ],
            "image/png": "[encoded data removed]"
          },
          "metadata": {}
        }
      ],
      "source": [
        "from diagram import diagram, adjust\n",
        "\n",
        "\n",
        "width, height, x, y = [1.74, 2.04, 1.05, 1.77]\n",
        "ax = diagram(width, height)\n",
        "bbox = stack.draw(ax, x, y)\n",
        "# adjust(x, y, bbox)"
      ]
    },
    {
      "cell_type": "markdown",
      "id": "9282331b",
      "metadata": {
        "id": "9282331b"
      },
      "source": [
        "The four `countdown` frames have different values for the parameter `n`.\n",
        "The bottom of the stack, where `n=0`, is called the **base case**.\n",
        "It does not make a recursive call, so there are no more frames."
      ]
    },
    {
      "cell_type": "code",
      "execution_count": 62,
      "id": "a2a376b3",
      "metadata": {
        "tags": [],
        "id": "a2a376b3",
        "outputId": "e940022c-4533-4203-a5aa-a221405b9e92",
        "colab": {
          "base_uri": "https://localhost:8080/",
          "height": 191
        }
      },
      "outputs": [
        {
          "output_type": "display_data",
          "data": {
            "text/plain": [
              "<Figure size 353x154 with 1 Axes>"
            ],
            "image/png": "[encoded data removed]"
          },
          "metadata": {}
        }
      ],
      "source": [
        "from diagram import make_frame, Stack\n",
        "from diagram import diagram, adjust\n",
        "\n",
        "frames = []\n",
        "for n in [2,1,0]:\n",
        "    d = dict(string='Hello', n=n)\n",
        "    frame = make_frame(d, name='print_n_times', dx=1.3, loc='left')\n",
        "    frames.append(frame)\n",
        "\n",
        "stack = Stack(frames, dy=-0.5)\n",
        "\n",
        "width, height, x, y = [3.53, 1.54, 1.54, 1.27]\n",
        "ax = diagram(width, height)\n",
        "bbox = stack.draw(ax, x, y)\n",
        "# adjust(x, y, bbox)"
      ]
    },
    {
      "cell_type": "markdown",
      "id": "37bbc2b8",
      "metadata": {
        "id": "37bbc2b8"
      },
      "source": [
        "## Infinite recursion\n",
        "\n",
        "If a recursion never reaches a base case, it goes on making recursive\n",
        "calls forever, and the program never terminates. This is known as\n",
        "**infinite recursion**, and it is generally not a good idea.\n",
        "Here's a minimal function with an infinite recursion."
      ]
    },
    {
      "cell_type": "code",
      "execution_count": 63,
      "id": "af487feb",
      "metadata": {
        "id": "af487feb"
      },
      "outputs": [],
      "source": [
        "def recurse():\n",
        "    recurse()"
      ]
    },
    {
      "cell_type": "markdown",
      "id": "450a20ac",
      "metadata": {
        "id": "450a20ac"
      },
      "source": [
        "Every time `recurse` is called, it calls itself, which creates another frame.\n",
        "In Python, there is a limit to the number of frames that can be on the stack at the same time.\n",
        "If a program exceeds the limit, it causes a runtime error."
      ]
    },
    {
      "cell_type": "code",
      "execution_count": 64,
      "id": "e5d6c732",
      "metadata": {
        "tags": [],
        "id": "e5d6c732",
        "outputId": "e3d822f2-6bc7-46d8-b5c6-bde47a61cc28",
        "colab": {
          "base_uri": "https://localhost:8080/"
        }
      },
      "outputs": [
        {
          "output_type": "stream",
          "name": "stdout",
          "text": [
            "Exception reporting mode: Context\n"
          ]
        }
      ],
      "source": [
        "%xmode Context"
      ]
    },
    {
      "cell_type": "code",
      "execution_count": 65,
      "id": "22454b51",
      "metadata": {
        "tags": [],
        "id": "22454b51",
        "colab": {
          "base_uri": "https://localhost:8080/",
          "height": 275
        },
        "outputId": "7e3b2105-57ad-432b-b030-04c531b1c8cd"
      },
      "outputs": [
        {
          "output_type": "error",
          "ename": "RecursionError",
          "evalue": "maximum recursion depth exceeded",
          "traceback": [
            "\u001b[0;31m---------------------------------------------------------------------------\u001b[0m",
            "\u001b[0;31mRecursionError\u001b[0m                            Traceback (most recent call last)",
            "\u001b[0;32m<ipython-input-65-b67bdaf44d76>\u001b[0m in \u001b[0;36m<cell line: 0>\u001b[0;34m()\u001b[0m\n\u001b[0;32m----> 1\u001b[0;31m \u001b[0mrecurse\u001b[0m\u001b[0;34m(\u001b[0m\u001b[0;34m)\u001b[0m\u001b[0;34m\u001b[0m\u001b[0;34m\u001b[0m\u001b[0m\n\u001b[0m",
            "\u001b[0;32m<ipython-input-63-65db32425da2>\u001b[0m in \u001b[0;36mrecurse\u001b[0;34m()\u001b[0m\n\u001b[1;32m      1\u001b[0m \u001b[0;32mdef\u001b[0m \u001b[0mrecurse\u001b[0m\u001b[0;34m(\u001b[0m\u001b[0;34m)\u001b[0m\u001b[0;34m:\u001b[0m\u001b[0;34m\u001b[0m\u001b[0;34m\u001b[0m\u001b[0m\n\u001b[0;32m----> 2\u001b[0;31m     \u001b[0mrecurse\u001b[0m\u001b[0;34m(\u001b[0m\u001b[0;34m)\u001b[0m\u001b[0;34m\u001b[0m\u001b[0;34m\u001b[0m\u001b[0m\n\u001b[0m",
            "... last 1 frames repeated, from the frame below ...\n",
            "\u001b[0;32m<ipython-input-63-65db32425da2>\u001b[0m in \u001b[0;36mrecurse\u001b[0;34m()\u001b[0m\n\u001b[1;32m      1\u001b[0m \u001b[0;32mdef\u001b[0m \u001b[0mrecurse\u001b[0m\u001b[0;34m(\u001b[0m\u001b[0;34m)\u001b[0m\u001b[0;34m:\u001b[0m\u001b[0;34m\u001b[0m\u001b[0;34m\u001b[0m\u001b[0m\n\u001b[0;32m----> 2\u001b[0;31m     \u001b[0mrecurse\u001b[0m\u001b[0;34m(\u001b[0m\u001b[0;34m)\u001b[0m\u001b[0;34m\u001b[0m\u001b[0;34m\u001b[0m\u001b[0m\n\u001b[0m",
            "\u001b[0;31mRecursionError\u001b[0m: maximum recursion depth exceeded"
          ]
        }
      ],
      "source": [
        "%%expect RecursionError\n",
        "\n",
        "recurse()"
      ]
    },
    {
      "cell_type": "markdown",
      "id": "39fc5c31",
      "metadata": {
        "id": "39fc5c31"
      },
      "source": [
        "The traceback indicates that there were almost 3000 frames on the stack when the error occurred.\n",
        "\n",
        "If you encounter an infinite recursion by accident, review your function to confirm that there is a base case that does not make a recursive call. And if there is a base case, check whether you are guaranteed to reach it."
      ]
    },
    {
      "cell_type": "markdown",
      "id": "45299414",
      "metadata": {
        "id": "45299414"
      },
      "source": [
        "## Keyboard input\n",
        "\n",
        "The programs we have written so far accept no input from the user. They\n",
        "just do the same thing every time.\n",
        "\n",
        "Python provides a built-in function called `input` that stops the\n",
        "program and waits for the user to type something. When the user presses\n",
        "*Return* or *Enter*, the program resumes and `input` returns what the user\n",
        "typed as a string."
      ]
    },
    {
      "cell_type": "code",
      "execution_count": 66,
      "id": "ac0fb4a6",
      "metadata": {
        "tags": [],
        "id": "ac0fb4a6"
      },
      "outputs": [],
      "source": [
        "# Solution goes here"
      ]
    },
    {
      "cell_type": "code",
      "execution_count": 67,
      "id": "f6a2e4d6",
      "metadata": {
        "id": "f6a2e4d6",
        "colab": {
          "base_uri": "https://localhost:8080/"
        },
        "outputId": "f23850f1-d619-4c5a-921f-7100b7399f2c"
      },
      "outputs": [
        {
          "name": "stdout",
          "output_type": "stream",
          "text": [
            "hello\n"
          ]
        }
      ],
      "source": [
        "text = input()"
      ]
    },
    {
      "cell_type": "markdown",
      "id": "acf9ec53",
      "metadata": {
        "id": "acf9ec53"
      },
      "source": [
        "Before getting input from the user, you might want to display a prompt\n",
        "telling the user what to type. `input` can take a prompt as an argument:"
      ]
    },
    {
      "cell_type": "code",
      "execution_count": 68,
      "id": "e0600e5e",
      "metadata": {
        "tags": [],
        "id": "e0600e5e"
      },
      "outputs": [],
      "source": [
        "# Solution goes here"
      ]
    },
    {
      "cell_type": "code",
      "execution_count": 69,
      "id": "964346f0",
      "metadata": {
        "id": "964346f0",
        "colab": {
          "base_uri": "https://localhost:8080/",
          "height": 71
        },
        "outputId": "09ff49f1-cefe-49e6-d9bc-3df98b59657e"
      },
      "outputs": [
        {
          "name": "stdout",
          "output_type": "stream",
          "text": [
            "What...is your name?\n",
            "Name\n"
          ]
        },
        {
          "output_type": "execute_result",
          "data": {
            "text/plain": [
              "'Name'"
            ],
            "application/vnd.google.colaboratory.intrinsic+json": {
              "type": "string"
            }
          },
          "metadata": {},
          "execution_count": 69
        }
      ],
      "source": [
        "name = input('What...is your name?\\n')\n",
        "name"
      ]
    },
    {
      "cell_type": "markdown",
      "id": "1b754b39",
      "metadata": {
        "id": "1b754b39"
      },
      "source": [
        "The sequence `\\n` at the end of the prompt represents a **newline**, which is a special character that causes a line break -- that way the user's input appears below the prompt.\n",
        "\n",
        "If you expect the user to type an integer, you can use the `int` function to convert the return value to `int`."
      ]
    },
    {
      "cell_type": "code",
      "execution_count": 70,
      "id": "590983cd",
      "metadata": {
        "tags": [],
        "id": "590983cd"
      },
      "outputs": [],
      "source": [
        "# Solution goes here"
      ]
    },
    {
      "cell_type": "code",
      "execution_count": 71,
      "id": "60a484d7",
      "metadata": {
        "id": "60a484d7",
        "colab": {
          "base_uri": "https://localhost:8080/",
          "height": 71
        },
        "outputId": "15a30af3-7da8-4081-c96e-1e0ca5c9e782"
      },
      "outputs": [
        {
          "name": "stdout",
          "output_type": "stream",
          "text": [
            "What...is the airspeed velocity of an unladen swallow?\n",
            "Two hundred\n"
          ]
        },
        {
          "output_type": "execute_result",
          "data": {
            "text/plain": [
              "'Two hundred'"
            ],
            "application/vnd.google.colaboratory.intrinsic+json": {
              "type": "string"
            }
          },
          "metadata": {},
          "execution_count": 71
        }
      ],
      "source": [
        "prompt = 'What...is the airspeed velocity of an unladen swallow?\\n'\n",
        "speed = input(prompt)\n",
        "speed"
      ]
    },
    {
      "cell_type": "markdown",
      "id": "0a65f2af",
      "metadata": {
        "id": "0a65f2af"
      },
      "source": [
        "But if they type something that's not an integer, you'll get a runtime error."
      ]
    },
    {
      "cell_type": "code",
      "execution_count": 72,
      "id": "8d3d6049",
      "metadata": {
        "tags": [],
        "id": "8d3d6049",
        "colab": {
          "base_uri": "https://localhost:8080/"
        },
        "outputId": "5b896982-9dbf-4a91-bcd1-fb6430ac44c8"
      },
      "outputs": [
        {
          "output_type": "stream",
          "name": "stdout",
          "text": [
            "Exception reporting mode: Minimal\n"
          ]
        }
      ],
      "source": [
        "%xmode Minimal"
      ]
    },
    {
      "cell_type": "code",
      "execution_count": 73,
      "id": "a04e3016",
      "metadata": {
        "tags": [],
        "id": "a04e3016",
        "colab": {
          "base_uri": "https://localhost:8080/",
          "height": 55
        },
        "outputId": "74946ce1-40c0-4df4-e25f-3a516b6e774b"
      },
      "outputs": [
        {
          "output_type": "error",
          "ename": "ValueError",
          "evalue": "invalid literal for int() with base 10: 'Two hundred'",
          "traceback": [
            "\u001b[0;31mValueError\u001b[0m\u001b[0;31m:\u001b[0m invalid literal for int() with base 10: 'Two hundred'\n"
          ]
        }
      ],
      "source": [
        "%%expect ValueError\n",
        "\n",
        "int(speed)"
      ]
    },
    {
      "cell_type": "markdown",
      "id": "a4ce3ed5",
      "metadata": {
        "id": "a4ce3ed5"
      },
      "source": [
        "We will see how to handle this kind of error later."
      ]
    },
    {
      "cell_type": "markdown",
      "id": "14c1d3dc",
      "metadata": {
        "id": "14c1d3dc"
      },
      "source": [
        "## Debugging\n",
        "\n",
        "When a syntax or runtime error occurs, the error message contains a lot\n",
        "of information, but it can be overwhelming. The most useful parts are\n",
        "usually:\n",
        "\n",
        "-   What kind of error it was, and\n",
        "\n",
        "-   Where it occurred.\n",
        "\n",
        "Syntax errors are usually easy to find, but there are a few gotchas.\n",
        "Errors related to spaces and tabs can be tricky because they are invisible\n",
        "and we are used to ignoring them."
      ]
    },
    {
      "cell_type": "code",
      "execution_count": 74,
      "id": "b82642f6",
      "metadata": {
        "tags": [],
        "id": "b82642f6",
        "colab": {
          "base_uri": "https://localhost:8080/",
          "height": 108
        },
        "outputId": "a57328b8-ab62-4bfc-d61c-be0cf56d0c19"
      },
      "outputs": [
        {
          "output_type": "error",
          "ename": "IndentationError",
          "evalue": "unexpected indent (<ipython-input-74-33618411f379>, line 2)",
          "traceback": [
            "\u001b[0;36m  File \u001b[0;32m\"<ipython-input-74-33618411f379>\"\u001b[0;36m, line \u001b[0;32m2\u001b[0m\n\u001b[0;31m    y = 6\u001b[0m\n\u001b[0m    ^\u001b[0m\n\u001b[0;31mIndentationError\u001b[0m\u001b[0;31m:\u001b[0m unexpected indent\n"
          ]
        }
      ],
      "source": [
        "%%expect IndentationError\n",
        "x = 5\n",
        " y = 6"
      ]
    },
    {
      "cell_type": "markdown",
      "id": "d1d06263",
      "metadata": {
        "id": "d1d06263"
      },
      "source": [
        "In this example, the problem is that the second line is indented by one space.\n",
        "But the error message points to `y`, which is misleading.\n",
        "Error messages indicate where the problem was discovered, but the actual error might be earlier in the code.\n",
        "\n",
        "The same is true of runtime errors.\n",
        "For example, suppose you are trying to convert a ratio to decibels, like this:"
      ]
    },
    {
      "cell_type": "code",
      "execution_count": 75,
      "id": "583ef53c",
      "metadata": {
        "tags": [],
        "id": "583ef53c",
        "colab": {
          "base_uri": "https://localhost:8080/"
        },
        "outputId": "7a01333b-19d3-4c41-b341-67ff8c91af63"
      },
      "outputs": [
        {
          "output_type": "stream",
          "name": "stdout",
          "text": [
            "Exception reporting mode: Context\n"
          ]
        }
      ],
      "source": [
        "%xmode Context"
      ]
    },
    {
      "cell_type": "code",
      "execution_count": 76,
      "id": "2f4b6082",
      "metadata": {
        "tags": [],
        "id": "2f4b6082",
        "colab": {
          "base_uri": "https://localhost:8080/",
          "height": 180
        },
        "outputId": "49a3bcc2-b187-42ba-ea7f-906119de4c04"
      },
      "outputs": [
        {
          "output_type": "error",
          "ename": "ValueError",
          "evalue": "math domain error",
          "traceback": [
            "\u001b[0;31m---------------------------------------------------------------------------\u001b[0m",
            "\u001b[0;31mValueError\u001b[0m                                Traceback (most recent call last)",
            "\u001b[0;32m<ipython-input-76-cdd0a916f6e5>\u001b[0m in \u001b[0;36m<cell line: 0>\u001b[0;34m()\u001b[0m\n\u001b[1;32m      3\u001b[0m \u001b[0mdenominator\u001b[0m \u001b[0;34m=\u001b[0m \u001b[0;36m10\u001b[0m\u001b[0;34m\u001b[0m\u001b[0;34m\u001b[0m\u001b[0m\n\u001b[1;32m      4\u001b[0m \u001b[0mratio\u001b[0m \u001b[0;34m=\u001b[0m \u001b[0mnumerator\u001b[0m \u001b[0;34m//\u001b[0m \u001b[0mdenominator\u001b[0m\u001b[0;34m\u001b[0m\u001b[0;34m\u001b[0m\u001b[0m\n\u001b[0;32m----> 5\u001b[0;31m \u001b[0mdecibels\u001b[0m \u001b[0;34m=\u001b[0m \u001b[0;36m10\u001b[0m \u001b[0;34m*\u001b[0m \u001b[0mmath\u001b[0m\u001b[0;34m.\u001b[0m\u001b[0mlog10\u001b[0m\u001b[0;34m(\u001b[0m\u001b[0mratio\u001b[0m\u001b[0;34m)\u001b[0m\u001b[0;34m\u001b[0m\u001b[0;34m\u001b[0m\u001b[0m\n\u001b[0m",
            "\u001b[0;31mValueError\u001b[0m: math domain error"
          ]
        }
      ],
      "source": [
        "%%expect ValueError\n",
        "import math\n",
        "numerator = 9\n",
        "denominator = 10\n",
        "ratio = numerator // denominator\n",
        "decibels = 10 * math.log10(ratio)"
      ]
    },
    {
      "cell_type": "markdown",
      "id": "55914374",
      "metadata": {
        "id": "55914374"
      },
      "source": [
        "The error message indicates line 5, but there is nothing wrong with that line.\n",
        "The problem is in line 4, which uses integer division instead of floating-point division -- as a result, the value of `ratio` is `0`.\n",
        "When we call `math.log10`, we get a `ValueError` with the message `math domain error`, because `0` is not in the \"domain\" of valid arguments for `math.log10`, because the logarithm of `0` is undefined.\n",
        "\n",
        "In general, you should take the time to read error messages carefully, but don't assume that everything they say is correct."
      ]
    },
    {
      "cell_type": "markdown",
      "id": "8ffe690e",
      "metadata": {
        "id": "8ffe690e"
      },
      "source": [
        "## Glossary\n",
        "\n",
        "**recursion:**\n",
        "The process of calling the function that is currently executing.\n",
        "\n",
        "**modulus operator:**\n",
        "An operator, `%`, that works on integers and returns the remainder when one number is divided by another.\n",
        "\n",
        "**boolean expression:**\n",
        "An expression whose value is either `True` or `False`.\n",
        "\n",
        "**relational operator:**\n",
        "One of the operators that compares its operands: `==`, `!=`, `>`, `<`, `>=`, and `<=`.\n",
        "\n",
        "**logical operator:**\n",
        "One of the operators that combines boolean expressions, including `and`, `or`, and `not`.\n",
        "\n",
        "**conditional statement:**\n",
        "A statement that controls the flow of execution depending on some condition.\n",
        "\n",
        "**condition:**\n",
        "The boolean expression in a conditional statement that determines which branch runs.\n",
        "\n",
        "**block:**\n",
        "One or more statements indented to indicate they are part of another statement.\n",
        "\n",
        "**branch:**\n",
        "One of the alternative sequences of statements in a conditional statement.\n",
        "\n",
        "**chained conditional:**\n",
        "A conditional statement with a series of alternative branches.\n",
        "\n",
        "**nested conditional:**\n",
        "A conditional statement that appears in one of the branches of another conditional statement.\n",
        "\n",
        "**recursive:**\n",
        "A function that calls itself is recursive.\n",
        "\n",
        "**base case:**\n",
        "A conditional branch in a recursive function that does not make a recursive call.\n",
        "\n",
        "**infinite recursion:**\n",
        "A recursion that doesn't have a base case, or never reaches it.\n",
        "Eventually, an infinite recursion causes a runtime error.\n",
        "\n",
        "**newline:**\n",
        "A character that creates a line break between two parts of a string."
      ]
    },
    {
      "cell_type": "markdown",
      "id": "8d783953",
      "metadata": {
        "id": "8d783953"
      },
      "source": [
        "## Exercises"
      ]
    },
    {
      "cell_type": "code",
      "execution_count": 77,
      "id": "66aae3cb",
      "metadata": {
        "tags": [],
        "id": "66aae3cb",
        "colab": {
          "base_uri": "https://localhost:8080/"
        },
        "outputId": "131332c8-73b6-4808-c5c5-b034456d9ec5"
      },
      "outputs": [
        {
          "output_type": "stream",
          "name": "stdout",
          "text": [
            "Exception reporting mode: Verbose\n"
          ]
        }
      ],
      "source": [
        "# This cell tells Jupyter to provide detailed debugging information\n",
        "# when a runtime error occurs. Run it before working on the exercises.\n",
        "\n",
        "%xmode Verbose"
      ]
    },
    {
      "cell_type": "markdown",
      "id": "02f9f1d7",
      "metadata": {
        "id": "02f9f1d7"
      },
      "source": [
        "### Ask a virtual assistant\n",
        "\n",
        "* Ask a virtual assistant, \"What are some uses of the modulus operator?\"\n",
        "\n",
        "* Python provides operators to compute the logical operations `and`, `or`, and `not`, but it doesn't have an operator that computes the exclusive `or` operation, usually written `xor`. Ask an assistant \"What is the logical xor operation and how do I compute it in Python?\"\n",
        "\n",
        "In this chapter, we saw two ways to write an `if` statement with three branches, using a chained conditional or a nested conditional.\n",
        "You can use a virtual assistant to convert from one to the other.\n",
        "For example, ask a VA, \"Convert this statement to a chained conditional.\""
      ]
    },
    {
      "cell_type": "code",
      "execution_count": 78,
      "id": "ade1ecb4",
      "metadata": {
        "tags": [],
        "id": "ade1ecb4"
      },
      "outputs": [],
      "source": [
        "x = 5\n",
        "y = 7"
      ]
    },
    {
      "cell_type": "code",
      "execution_count": 79,
      "id": "dc7026c2",
      "metadata": {
        "id": "dc7026c2",
        "colab": {
          "base_uri": "https://localhost:8080/"
        },
        "outputId": "038079fb-568c-469d-e222-3b8613e736ee"
      },
      "outputs": [
        {
          "output_type": "stream",
          "name": "stdout",
          "text": [
            "x is less than y\n"
          ]
        }
      ],
      "source": [
        "if x == y:\n",
        "    print('x and y are equal')\n",
        "else:\n",
        "    if x < y:\n",
        "        print('x is less than y')\n",
        "    else:\n",
        "        print('x is greater than y')"
      ]
    },
    {
      "cell_type": "code",
      "source": [
        "# Code generated by Gemini\n",
        "# Prompt: Convert this statement into a chained conditional\n",
        "\n",
        "if x == y:\n",
        "    print('x and y are equal')\n",
        "elif x < y:\n",
        "    print('x is less than y')\n",
        "else:\n",
        "    print('x is greater than y')"
      ],
      "metadata": {
        "id": "h2TUefLFgTMm",
        "colab": {
          "base_uri": "https://localhost:8080/"
        },
        "outputId": "e2ac9f2f-776b-46ad-dbeb-e6ff63dcf181"
      },
      "id": "h2TUefLFgTMm",
      "execution_count": 80,
      "outputs": [
        {
          "output_type": "stream",
          "name": "stdout",
          "text": [
            "x is less than y\n"
          ]
        }
      ]
    },
    {
      "cell_type": "markdown",
      "id": "9c2a8466",
      "metadata": {
        "id": "9c2a8466"
      },
      "source": [
        "Ask a VA, \"Rewrite this statement with a single conditional.\""
      ]
    },
    {
      "cell_type": "code",
      "execution_count": 81,
      "id": "1fd919ea",
      "metadata": {
        "id": "1fd919ea",
        "colab": {
          "base_uri": "https://localhost:8080/"
        },
        "outputId": "53d56b61-7d90-4c42-e56e-472c787d3f1f"
      },
      "outputs": [
        {
          "output_type": "stream",
          "name": "stdout",
          "text": [
            "x is a positive single-digit number.\n"
          ]
        }
      ],
      "source": [
        "if 0 < x:\n",
        "    if x < 10:\n",
        "        print('x is a positive single-digit number.')"
      ]
    },
    {
      "cell_type": "code",
      "source": [
        "# Code generated by Gemini\n",
        "# Prompt: Rewrite this statement with a single conditional\n",
        "\n",
        "if 0 < x < 10:\n",
        "    print('x is a positive single-digit number.')"
      ],
      "metadata": {
        "id": "ryU_pJhrgxWQ",
        "colab": {
          "base_uri": "https://localhost:8080/"
        },
        "outputId": "a657a7a2-6000-48eb-a2c1-a8ebdc9d5215"
      },
      "id": "ryU_pJhrgxWQ",
      "execution_count": 82,
      "outputs": [
        {
          "output_type": "stream",
          "name": "stdout",
          "text": [
            "x is a positive single-digit number.\n"
          ]
        }
      ]
    },
    {
      "cell_type": "markdown",
      "id": "e0fbed08",
      "metadata": {
        "id": "e0fbed08"
      },
      "source": [
        "See if a VA can simplify this unnecessary complexity."
      ]
    },
    {
      "cell_type": "code",
      "execution_count": 83,
      "id": "1e71702e",
      "metadata": {
        "id": "1e71702e",
        "colab": {
          "base_uri": "https://localhost:8080/"
        },
        "outputId": "3d3807ed-94ae-4203-cfed-e875e6ad8057"
      },
      "outputs": [
        {
          "output_type": "stream",
          "name": "stdout",
          "text": [
            "x is a positive single-digit number.\n"
          ]
        }
      ],
      "source": [
        "if not x <= 0 and not x >= 10:\n",
        "    print('x is a positive single-digit number.')"
      ]
    },
    {
      "cell_type": "code",
      "source": [
        "# Code generated by Gemini\n",
        "# Prompt: Can you simplify this Python statement?\n",
        "\n",
        "if 0 < x < 10:\n",
        "    print('x is a positive single-digit number.')"
      ],
      "metadata": {
        "id": "vMptIhNlhD3u",
        "colab": {
          "base_uri": "https://localhost:8080/"
        },
        "outputId": "371aecf3-1a1d-48c6-8872-69baac3ba79e"
      },
      "id": "vMptIhNlhD3u",
      "execution_count": 84,
      "outputs": [
        {
          "output_type": "stream",
          "name": "stdout",
          "text": [
            "x is a positive single-digit number.\n"
          ]
        }
      ]
    },
    {
      "cell_type": "markdown",
      "id": "74ef776d",
      "metadata": {
        "id": "74ef776d"
      },
      "source": [
        "Here's an attempt at a recursive function that counts down by two."
      ]
    },
    {
      "cell_type": "code",
      "execution_count": 85,
      "id": "84cbd5a4",
      "metadata": {
        "id": "84cbd5a4"
      },
      "outputs": [],
      "source": [
        "def countdown_by_two(n):\n",
        "    if n == 0:\n",
        "        print('Blastoff!')\n",
        "    else:\n",
        "        print(n)\n",
        "        countdown_by_two(n-2)"
      ]
    },
    {
      "cell_type": "markdown",
      "id": "77178e79",
      "metadata": {
        "id": "77178e79"
      },
      "source": [
        "It seems to work."
      ]
    },
    {
      "cell_type": "code",
      "execution_count": 86,
      "id": "b0918789",
      "metadata": {
        "id": "b0918789",
        "colab": {
          "base_uri": "https://localhost:8080/"
        },
        "outputId": "67b93f8b-7df1-4c5c-c08d-6b74e75385e5"
      },
      "outputs": [
        {
          "output_type": "stream",
          "name": "stdout",
          "text": [
            "6\n",
            "4\n",
            "2\n",
            "Blastoff!\n"
          ]
        }
      ],
      "source": [
        "countdown_by_two(6)"
      ]
    },
    {
      "cell_type": "markdown",
      "id": "c9d3a8dc",
      "metadata": {
        "id": "c9d3a8dc"
      },
      "source": [
        "But it has an error. Ask a virtual assistant what's wrong and how to fix it.\n",
        "Paste the solution it provides back here and test it."
      ]
    },
    {
      "cell_type": "code",
      "source": [
        "# Code generated by Gemini\n",
        "# Gemini's response: The function works correctly for even numbers,\n",
        "# but it enters into an infinite loop for odd numbers.\n",
        "\n",
        "\n",
        "def countdown_by_two(n):\n",
        "    if n <= 0:\n",
        "        print('Blastoff!')\n",
        "    else:\n",
        "        print(n)\n",
        "        countdown_by_two(n-2)"
      ],
      "metadata": {
        "id": "6N58ckUOhlhk"
      },
      "id": "6N58ckUOhlhk",
      "execution_count": 87,
      "outputs": []
    },
    {
      "cell_type": "code",
      "source": [
        "countdown_by_two(7)"
      ],
      "metadata": {
        "id": "d59GtPf-hqZ_",
        "colab": {
          "base_uri": "https://localhost:8080/"
        },
        "outputId": "77acfff9-d7c0-42b5-c1c8-a018893da1c0"
      },
      "id": "d59GtPf-hqZ_",
      "execution_count": 88,
      "outputs": [
        {
          "output_type": "stream",
          "name": "stdout",
          "text": [
            "7\n",
            "5\n",
            "3\n",
            "1\n",
            "Blastoff!\n"
          ]
        }
      ]
    },
    {
      "cell_type": "markdown",
      "id": "240a3888",
      "metadata": {
        "id": "240a3888"
      },
      "source": [
        "### Exercise\n",
        "\n",
        "The `time` module provides a function, also called `time`, that returns\n",
        "returns the number of seconds since the \"Unix epoch\", which is January 1, 1970, 00:00:00 UTC (Coordinated Universal Time)."
      ]
    },
    {
      "cell_type": "code",
      "execution_count": 89,
      "id": "1e7a2c07",
      "metadata": {
        "id": "1e7a2c07",
        "colab": {
          "base_uri": "https://localhost:8080/"
        },
        "outputId": "3f17e1ec-3be7-46ab-a408-9b9c39228df2"
      },
      "outputs": [
        {
          "output_type": "execute_result",
          "data": {
            "text/plain": [
              "1737480304.358332"
            ]
          },
          "metadata": {},
          "execution_count": 89
        }
      ],
      "source": [
        "from time import time\n",
        "\n",
        "now = time()\n",
        "now"
      ]
    },
    {
      "cell_type": "markdown",
      "id": "054c3197",
      "metadata": {
        "id": "054c3197"
      },
      "source": [
        "Use integer division and the modulus operator to compute the number of days since January 1, 1970 and the current time of day in hours, minutes, and seconds."
      ]
    },
    {
      "cell_type": "markdown",
      "id": "310196ba",
      "metadata": {
        "tags": [],
        "id": "310196ba"
      },
      "source": [
        "You can read more about the `time` module at <https://docs.python.org/3/library/time.html>."
      ]
    },
    {
      "cell_type": "code",
      "execution_count": 90,
      "id": "c5fa57b2",
      "metadata": {
        "id": "c5fa57b2"
      },
      "outputs": [],
      "source": [
        "def convert_time(time):\n",
        "    days = time // 86400\n",
        "    current_time = time % 86400\n",
        "    hours = current_time // 3600\n",
        "    minutes = current_time % 3600 // 60\n",
        "    seconds = current_time % 3600 % 60\n",
        "    print(f'{days} days, {hours} hours, {minutes} minutes, {seconds} seconds')"
      ]
    },
    {
      "cell_type": "code",
      "execution_count": 91,
      "id": "322ddd0a",
      "metadata": {
        "id": "322ddd0a",
        "colab": {
          "base_uri": "https://localhost:8080/"
        },
        "outputId": "f421d44d-4ea6-4812-d515-106c30cfbf9f"
      },
      "outputs": [
        {
          "output_type": "stream",
          "name": "stdout",
          "text": [
            "20109.0 days, 17.0 hours, 25.0 minutes, 4.358331918716431 seconds\n"
          ]
        }
      ],
      "source": [
        "convert_time(now)"
      ]
    },
    {
      "cell_type": "code",
      "execution_count": 92,
      "id": "fc43df7d",
      "metadata": {
        "id": "fc43df7d"
      },
      "outputs": [],
      "source": [
        "# Solution goes here"
      ]
    },
    {
      "cell_type": "code",
      "execution_count": 93,
      "id": "0184d21a",
      "metadata": {
        "id": "0184d21a"
      },
      "outputs": [],
      "source": [
        "# Solution goes here"
      ]
    },
    {
      "cell_type": "markdown",
      "id": "6b1fd514",
      "metadata": {
        "id": "6b1fd514"
      },
      "source": [
        "### Exercise\n",
        "\n",
        "If you are given three sticks, you may or may not be able to arrange\n",
        "them in a triangle. For example, if one of the sticks is 12 inches long\n",
        "and the other two are one inch long, you will not be able to get the\n",
        "short sticks to meet in the middle. For any three lengths, there is a\n",
        "test to see if it is possible to form a triangle:\n",
        "\n",
        "> If any of the three lengths is greater than the sum of the other two,\n",
        "> then you cannot form a triangle. Otherwise, you can. (If the sum of\n",
        "> two lengths equals the third, they form what is called a \"degenerate\"\n",
        "> triangle.)\n",
        "\n",
        "Write a function named `is_triangle` that takes three integers as\n",
        "arguments, and that prints either \"Yes\" or \"No\", depending on\n",
        "whether you can or cannot form a triangle from sticks with the given\n",
        "lengths. Hint: Use a chained conditional.\n",
        "\n"
      ]
    },
    {
      "cell_type": "code",
      "execution_count": 94,
      "id": "06381639",
      "metadata": {
        "tags": [],
        "id": "06381639"
      },
      "outputs": [],
      "source": [
        "def is_triangle(a, b, c):\n",
        "    if a > b + c:\n",
        "        print('No')\n",
        "    elif b > a + c:\n",
        "        print('No')\n",
        "    elif c > a + b:\n",
        "        print('No')\n",
        "    else:\n",
        "        print('Yes')"
      ]
    },
    {
      "cell_type": "markdown",
      "id": "2842401c",
      "metadata": {
        "tags": [],
        "id": "2842401c"
      },
      "source": [
        "Test your function with the following cases."
      ]
    },
    {
      "cell_type": "code",
      "execution_count": 95,
      "id": "156273af",
      "metadata": {
        "tags": [],
        "id": "156273af",
        "colab": {
          "base_uri": "https://localhost:8080/"
        },
        "outputId": "a72e595a-3919-44b6-bfbc-4090c8b5d1ff"
      },
      "outputs": [
        {
          "output_type": "stream",
          "name": "stdout",
          "text": [
            "Yes\n"
          ]
        }
      ],
      "source": [
        "is_triangle(4, 5, 6)   # should be Yes"
      ]
    },
    {
      "cell_type": "code",
      "execution_count": 96,
      "id": "e00793f4",
      "metadata": {
        "tags": [],
        "id": "e00793f4",
        "colab": {
          "base_uri": "https://localhost:8080/"
        },
        "outputId": "15fa51fb-1a54-42c8-ca9a-b0826f0f46f5"
      },
      "outputs": [
        {
          "output_type": "stream",
          "name": "stdout",
          "text": [
            "Yes\n"
          ]
        }
      ],
      "source": [
        "is_triangle(1, 2, 3)   # should be Yes"
      ]
    },
    {
      "cell_type": "code",
      "execution_count": 97,
      "id": "d2911c71",
      "metadata": {
        "tags": [],
        "id": "d2911c71",
        "colab": {
          "base_uri": "https://localhost:8080/"
        },
        "outputId": "9830b78a-75ca-4584-d57e-b51eebddb72d"
      },
      "outputs": [
        {
          "output_type": "stream",
          "name": "stdout",
          "text": [
            "No\n"
          ]
        }
      ],
      "source": [
        "is_triangle(6, 2, 3)   # should be No"
      ]
    },
    {
      "cell_type": "code",
      "execution_count": 98,
      "id": "2b05586e",
      "metadata": {
        "tags": [],
        "id": "2b05586e",
        "colab": {
          "base_uri": "https://localhost:8080/"
        },
        "outputId": "fbd76207-b268-4153-a59f-232d51775914"
      },
      "outputs": [
        {
          "output_type": "stream",
          "name": "stdout",
          "text": [
            "No\n"
          ]
        }
      ],
      "source": [
        "is_triangle(1, 1, 12)   # should be No"
      ]
    },
    {
      "cell_type": "markdown",
      "id": "2ba42106",
      "metadata": {
        "id": "2ba42106"
      },
      "source": [
        "### Exercise\n",
        "\n",
        "What is the output of the following program? Draw a stack diagram that\n",
        "shows the state of the program when it prints the result."
      ]
    },
    {
      "cell_type": "code",
      "execution_count": 99,
      "id": "dac374ad",
      "metadata": {
        "id": "dac374ad",
        "colab": {
          "base_uri": "https://localhost:8080/"
        },
        "outputId": "10c4941b-87c9-400e-8588-945b37472e4a"
      },
      "outputs": [
        {
          "output_type": "stream",
          "name": "stdout",
          "text": [
            "6\n"
          ]
        }
      ],
      "source": [
        "def recurse(n, s):\n",
        "    if n == 0:\n",
        "        print(s)\n",
        "    else:\n",
        "        recurse(n-1, n+s)\n",
        "\n",
        "recurse(3, 0)"
      ]
    },
    {
      "cell_type": "code",
      "execution_count": 100,
      "id": "a438cec5",
      "metadata": {
        "id": "a438cec5"
      },
      "outputs": [],
      "source": [
        "from diagram import make_frame, Stack\n",
        "\n",
        "frames = []\n",
        "s = 0\n",
        "for n in [3,2,1,0]:\n",
        "    s += n\n",
        "    d = dict(n=n, s=s)\n",
        "    frame = make_frame(d, name='recurse', dy=-0.2, loc='left')\n",
        "    frames.append(frame)\n",
        "\n",
        "stack = Stack(frames, dy=-0.5)"
      ]
    },
    {
      "cell_type": "code",
      "execution_count": 101,
      "id": "2e3f56c7",
      "metadata": {
        "tags": [],
        "id": "2e3f56c7",
        "colab": {
          "base_uri": "https://localhost:8080/",
          "height": 241
        },
        "outputId": "52833b34-963e-4e5a-e521-b9743f1aed97"
      },
      "outputs": [
        {
          "output_type": "display_data",
          "data": {
            "text/plain": [
              "<Figure size 174x204 with 1 Axes>"
            ],
            "image/png": "[encoded data removed]"
          },
          "metadata": {}
        }
      ],
      "source": [
        "from diagram import diagram, adjust\n",
        "\n",
        "\n",
        "width, height, x, y = [1.74, 2.04, 1.05, 1.77]\n",
        "ax = diagram(width, height)\n",
        "bbox = stack.draw(ax, x, y)"
      ]
    },
    {
      "cell_type": "markdown",
      "id": "bca9517d",
      "metadata": {
        "id": "bca9517d"
      },
      "source": [
        "### Exercise\n",
        "\n",
        "The following exercises use the `jupyturtle` module, described in Chapter 4.\n",
        "\n",
        "Read the following function and see if you can figure out what it does.\n",
        "Then run it and see if you got it right.\n",
        "Adjust the values of `length`, `angle` and `factor` and see what effect they have on the result.\n",
        "If you are not sure you understand how it works, try asking a virtual assistant."
      ]
    },
    {
      "cell_type": "code",
      "execution_count": 102,
      "id": "2b0d60a1",
      "metadata": {
        "id": "2b0d60a1"
      },
      "outputs": [],
      "source": [
        "from jupyturtle import forward, left, right, back, make_turtle\n",
        "\n",
        "def draw(length):\n",
        "    angle = 80\n",
        "    factor = 0.6\n",
        "\n",
        "    if length > 5:\n",
        "        forward(length)\n",
        "        left(angle)\n",
        "        draw(factor * length)\n",
        "        right(2 * angle)\n",
        "        draw(factor * length)\n",
        "        left(angle)\n",
        "        back(length)\n",
        "\n",
        "# Makes a tree made up of smaller trees"
      ]
    },
    {
      "cell_type": "code",
      "execution_count": 103,
      "id": "ef0256ee",
      "metadata": {
        "id": "ef0256ee",
        "outputId": "219fc796-4b82-42e6-e0cf-68e0240bd6c3",
        "colab": {
          "base_uri": "https://localhost:8080/",
          "height": 171
        }
      },
      "outputs": [
        {
          "output_type": "display_data",
          "data": {
            "text/plain": [
              "<IPython.core.display.HTML object>"
            ],
            "text/html": [
              "<svg width=\"300\" height=\"150\">\n",
              "    <rect width=\"100%\" height=\"100%\" fill=\"#F3F3F7\" />\n",
              "\n",
              "<line x1=\"150\" y1=\"75\" x2=\"200.0\" y2=\"75.0\"\n",
              "    stroke=\"#663399\" stroke-width=\"2\" />\n",
              "<line x1=\"200.0\" y1=\"75.0\" x2=\"205.2\" y2=\"45.5\"\n",
              "    stroke=\"#663399\" stroke-width=\"2\" />\n",
              "<line x1=\"205.2\" y1=\"45.5\" x2=\"188.3\" y2=\"39.3\"\n",
              "    stroke=\"#663399\" stroke-width=\"2\" />\n",
              "<line x1=\"188.3\" y1=\"39.3\" x2=\"182.9\" y2=\"48.7\"\n",
              "    stroke=\"#663399\" stroke-width=\"2\" />\n",
              "<line x1=\"182.9\" y1=\"48.7\" x2=\"187.9\" y2=\"52.8\"\n",
              "    stroke=\"#663399\" stroke-width=\"2\" />\n",
              "<line x1=\"187.9\" y1=\"52.8\" x2=\"182.9\" y2=\"48.7\"\n",
              "    stroke=\"#663399\" stroke-width=\"2\" />\n",
              "<line x1=\"182.9\" y1=\"48.7\" x2=\"176.8\" y2=\"46.4\"\n",
              "    stroke=\"#663399\" stroke-width=\"2\" />\n",
              "<line x1=\"176.8\" y1=\"46.4\" x2=\"182.9\" y2=\"48.7\"\n",
              "    stroke=\"#663399\" stroke-width=\"2\" />\n",
              "<line x1=\"182.9\" y1=\"48.7\" x2=\"188.3\" y2=\"39.3\"\n",
              "    stroke=\"#663399\" stroke-width=\"2\" />\n",
              "<line x1=\"188.3\" y1=\"39.3\" x2=\"190.2\" y2=\"28.7\"\n",
              "    stroke=\"#663399\" stroke-width=\"2\" />\n",
              "<line x1=\"190.2\" y1=\"28.7\" x2=\"184.1\" y2=\"26.4\"\n",
              "    stroke=\"#663399\" stroke-width=\"2\" />\n",
              "<line x1=\"184.1\" y1=\"26.4\" x2=\"190.2\" y2=\"28.7\"\n",
              "    stroke=\"#663399\" stroke-width=\"2\" />\n",
              "<line x1=\"190.2\" y1=\"28.7\" x2=\"196.7\" y2=\"28.7\"\n",
              "    stroke=\"#663399\" stroke-width=\"2\" />\n",
              "<line x1=\"196.7\" y1=\"28.7\" x2=\"190.2\" y2=\"28.7\"\n",
              "    stroke=\"#663399\" stroke-width=\"2\" />\n",
              "<line x1=\"190.2\" y1=\"28.7\" x2=\"188.3\" y2=\"39.3\"\n",
              "    stroke=\"#663399\" stroke-width=\"2\" />\n",
              "<line x1=\"188.3\" y1=\"39.3\" x2=\"205.2\" y2=\"45.5\"\n",
              "    stroke=\"#663399\" stroke-width=\"2\" />\n",
              "<line x1=\"205.2\" y1=\"45.5\" x2=\"223.2\" y2=\"45.5\"\n",
              "    stroke=\"#663399\" stroke-width=\"2\" />\n",
              "<line x1=\"223.2\" y1=\"45.5\" x2=\"225.1\" y2=\"34.8\"\n",
              "    stroke=\"#663399\" stroke-width=\"2\" />\n",
              "<line x1=\"225.1\" y1=\"34.8\" x2=\"219.0\" y2=\"32.6\"\n",
              "    stroke=\"#663399\" stroke-width=\"2\" />\n",
              "<line x1=\"219.0\" y1=\"32.6\" x2=\"225.1\" y2=\"34.8\"\n",
              "    stroke=\"#663399\" stroke-width=\"2\" />\n",
              "<line x1=\"225.1\" y1=\"34.8\" x2=\"231.6\" y2=\"34.8\"\n",
              "    stroke=\"#663399\" stroke-width=\"2\" />\n",
              "<line x1=\"231.6\" y1=\"34.8\" x2=\"225.1\" y2=\"34.8\"\n",
              "    stroke=\"#663399\" stroke-width=\"2\" />\n",
              "<line x1=\"225.1\" y1=\"34.8\" x2=\"223.2\" y2=\"45.5\"\n",
              "    stroke=\"#663399\" stroke-width=\"2\" />\n",
              "<line x1=\"223.2\" y1=\"45.5\" x2=\"225.1\" y2=\"56.1\"\n",
              "    stroke=\"#663399\" stroke-width=\"2\" />\n",
              "<line x1=\"225.1\" y1=\"56.1\" x2=\"231.6\" y2=\"56.1\"\n",
              "    stroke=\"#663399\" stroke-width=\"2\" />\n",
              "<line x1=\"231.6\" y1=\"56.1\" x2=\"225.1\" y2=\"56.1\"\n",
              "    stroke=\"#663399\" stroke-width=\"2\" />\n",
              "<line x1=\"225.1\" y1=\"56.1\" x2=\"219.0\" y2=\"58.3\"\n",
              "    stroke=\"#663399\" stroke-width=\"2\" />\n",
              "<line x1=\"219.0\" y1=\"58.3\" x2=\"225.1\" y2=\"56.1\"\n",
              "    stroke=\"#663399\" stroke-width=\"2\" />\n",
              "<line x1=\"225.1\" y1=\"56.1\" x2=\"223.2\" y2=\"45.5\"\n",
              "    stroke=\"#663399\" stroke-width=\"2\" />\n",
              "<line x1=\"223.2\" y1=\"45.5\" x2=\"205.2\" y2=\"45.5\"\n",
              "    stroke=\"#663399\" stroke-width=\"2\" />\n",
              "<line x1=\"205.2\" y1=\"45.5\" x2=\"200.0\" y2=\"75.0\"\n",
              "    stroke=\"#663399\" stroke-width=\"2\" />\n",
              "<line x1=\"200.0\" y1=\"75.0\" x2=\"205.2\" y2=\"104.5\"\n",
              "    stroke=\"#663399\" stroke-width=\"2\" />\n",
              "<line x1=\"205.2\" y1=\"104.5\" x2=\"223.2\" y2=\"104.5\"\n",
              "    stroke=\"#663399\" stroke-width=\"2\" />\n",
              "<line x1=\"223.2\" y1=\"104.5\" x2=\"225.1\" y2=\"93.9\"\n",
              "    stroke=\"#663399\" stroke-width=\"2\" />\n",
              "<line x1=\"225.1\" y1=\"93.9\" x2=\"219.0\" y2=\"91.7\"\n",
              "    stroke=\"#663399\" stroke-width=\"2\" />\n",
              "<line x1=\"219.0\" y1=\"91.7\" x2=\"225.1\" y2=\"93.9\"\n",
              "    stroke=\"#663399\" stroke-width=\"2\" />\n",
              "<line x1=\"225.1\" y1=\"93.9\" x2=\"231.6\" y2=\"93.9\"\n",
              "    stroke=\"#663399\" stroke-width=\"2\" />\n",
              "<line x1=\"231.6\" y1=\"93.9\" x2=\"225.1\" y2=\"93.9\"\n",
              "    stroke=\"#663399\" stroke-width=\"2\" />\n",
              "<line x1=\"225.1\" y1=\"93.9\" x2=\"223.2\" y2=\"104.5\"\n",
              "    stroke=\"#663399\" stroke-width=\"2\" />\n",
              "<line x1=\"223.2\" y1=\"104.5\" x2=\"225.1\" y2=\"115.2\"\n",
              "    stroke=\"#663399\" stroke-width=\"2\" />\n",
              "<line x1=\"225.1\" y1=\"115.2\" x2=\"231.6\" y2=\"115.2\"\n",
              "    stroke=\"#663399\" stroke-width=\"2\" />\n",
              "<line x1=\"231.6\" y1=\"115.2\" x2=\"225.1\" y2=\"115.2\"\n",
              "    stroke=\"#663399\" stroke-width=\"2\" />\n",
              "<line x1=\"225.1\" y1=\"115.2\" x2=\"219.0\" y2=\"117.4\"\n",
              "    stroke=\"#663399\" stroke-width=\"2\" />\n",
              "<line x1=\"219.0\" y1=\"117.4\" x2=\"225.1\" y2=\"115.2\"\n",
              "    stroke=\"#663399\" stroke-width=\"2\" />\n",
              "<line x1=\"225.1\" y1=\"115.2\" x2=\"223.2\" y2=\"104.5\"\n",
              "    stroke=\"#663399\" stroke-width=\"2\" />\n",
              "<line x1=\"223.2\" y1=\"104.5\" x2=\"205.2\" y2=\"104.5\"\n",
              "    stroke=\"#663399\" stroke-width=\"2\" />\n",
              "<line x1=\"205.2\" y1=\"104.5\" x2=\"188.3\" y2=\"110.7\"\n",
              "    stroke=\"#663399\" stroke-width=\"2\" />\n",
              "<line x1=\"188.3\" y1=\"110.7\" x2=\"190.2\" y2=\"121.3\"\n",
              "    stroke=\"#663399\" stroke-width=\"2\" />\n",
              "<line x1=\"190.2\" y1=\"121.3\" x2=\"196.7\" y2=\"121.3\"\n",
              "    stroke=\"#663399\" stroke-width=\"2\" />\n",
              "<line x1=\"196.7\" y1=\"121.3\" x2=\"190.2\" y2=\"121.3\"\n",
              "    stroke=\"#663399\" stroke-width=\"2\" />\n",
              "<line x1=\"190.2\" y1=\"121.3\" x2=\"184.1\" y2=\"123.6\"\n",
              "    stroke=\"#663399\" stroke-width=\"2\" />\n",
              "<line x1=\"184.1\" y1=\"123.6\" x2=\"190.2\" y2=\"121.3\"\n",
              "    stroke=\"#663399\" stroke-width=\"2\" />\n",
              "<line x1=\"190.2\" y1=\"121.3\" x2=\"188.3\" y2=\"110.7\"\n",
              "    stroke=\"#663399\" stroke-width=\"2\" />\n",
              "<line x1=\"188.3\" y1=\"110.7\" x2=\"182.9\" y2=\"101.3\"\n",
              "    stroke=\"#663399\" stroke-width=\"2\" />\n",
              "<line x1=\"182.9\" y1=\"101.3\" x2=\"176.8\" y2=\"103.6\"\n",
              "    stroke=\"#663399\" stroke-width=\"2\" />\n",
              "<line x1=\"176.8\" y1=\"103.6\" x2=\"182.9\" y2=\"101.3\"\n",
              "    stroke=\"#663399\" stroke-width=\"2\" />\n",
              "<line x1=\"182.9\" y1=\"101.3\" x2=\"187.9\" y2=\"97.2\"\n",
              "    stroke=\"#663399\" stroke-width=\"2\" />\n",
              "<line x1=\"187.9\" y1=\"97.2\" x2=\"182.9\" y2=\"101.3\"\n",
              "    stroke=\"#663399\" stroke-width=\"2\" />\n",
              "<line x1=\"182.9\" y1=\"101.3\" x2=\"188.3\" y2=\"110.7\"\n",
              "    stroke=\"#663399\" stroke-width=\"2\" />\n",
              "<line x1=\"188.3\" y1=\"110.7\" x2=\"205.2\" y2=\"104.5\"\n",
              "    stroke=\"#663399\" stroke-width=\"2\" />\n",
              "<line x1=\"205.2\" y1=\"104.5\" x2=\"200.0\" y2=\"75.0\"\n",
              "    stroke=\"#663399\" stroke-width=\"2\" />\n",
              "<line x1=\"200.0\" y1=\"75.0\" x2=\"150.0\" y2=\"75.0\"\n",
              "    stroke=\"#663399\" stroke-width=\"2\" />\n",
              "\n",
              "<g transform=\"rotate(-90.0,150.0,75.0) translate(150.0, 75.0)\">\n",
              "    <circle stroke=\"#63A375\" stroke-width=\"2\" fill=\"transparent\" r=\"5.5\" cx=\"0\" cy=\"0\"/>\n",
              "    <polygon points=\"0,12 2,9 -2,9\" style=\"fill:#63A375;stroke:#63A375;stroke-width:2\"/>\n",
              "</g>\n",
              "\n",
              "</svg>"
            ]
          },
          "metadata": {}
        }
      ],
      "source": [
        "make_turtle(delay=0.05)\n",
        "draw(50)"
      ]
    },
    {
      "cell_type": "markdown",
      "id": "e525ba59",
      "metadata": {
        "id": "e525ba59"
      },
      "source": [
        "### Exercise\n",
        "\n",
        "Ask a virtual assistant \"What is the Koch curve?\"\n",
        "\n",
        "To draw a Koch curve with length `x`, all you\n",
        "have to do is\n",
        "\n",
        "1.  Draw a Koch curve with length `x/3`.\n",
        "\n",
        "2.  Turn left 60 degrees.\n",
        "\n",
        "3.  Draw a Koch curve with length `x/3`.\n",
        "\n",
        "4.  Turn right 120 degrees.\n",
        "\n",
        "5.  Draw a Koch curve with length `x/3`.\n",
        "\n",
        "6.  Turn left 60 degrees.\n",
        "\n",
        "7.  Draw a Koch curve with length `x/3`.\n",
        "\n",
        "The exception is if `x` is less than `5` -- in that case, you can just draw a straight line with length `x`.\n",
        "\n",
        "Write a function called `koch` that takes `x` as an argument and draws a Koch curve with the given length.\n"
      ]
    },
    {
      "cell_type": "markdown",
      "source": [
        "**Response by Google Gemini**\n",
        "\n",
        "The Koch curve is a fractal that is created by repeatedly applying a simple rule to a line segment. The rule is as follows:\n",
        "\n",
        "Divide the line segment into three equal parts.\n",
        "Remove the middle third of the line segment.\n",
        "Replace the middle third with two line segments of the same length, forming an equilateral triangle with the removed segment as its base.\n",
        "This process is repeated infinitely, resulting in a curve with infinite length but finite area.\n",
        "\n",
        "The Koch curve is named after the Swedish mathematician Helge von Koch, who first described it in 1904. It is one of the earliest fractals to have been described, and it is a classic example of a self-similar fractal, meaning that it looks the same at all scales."
      ],
      "metadata": {
        "id": "UIfg3mrv13Rw"
      },
      "id": "UIfg3mrv13Rw"
    },
    {
      "cell_type": "code",
      "execution_count": 104,
      "id": "c1acc853",
      "metadata": {
        "id": "c1acc853"
      },
      "outputs": [],
      "source": [
        "def koch(x):\n",
        "    if x < 5:\n",
        "        forward(x)\n",
        "    else:\n",
        "        koch(x/3)\n",
        "        left(60)\n",
        "        koch(x/3)\n",
        "        right(120)\n",
        "        koch(x/3)\n",
        "        left(60)\n",
        "        koch(x/3)"
      ]
    },
    {
      "cell_type": "markdown",
      "id": "2991143a",
      "metadata": {
        "id": "2991143a"
      },
      "source": [
        "The result should look like this:"
      ]
    },
    {
      "cell_type": "code",
      "execution_count": 105,
      "id": "55507716",
      "metadata": {
        "id": "55507716",
        "colab": {
          "base_uri": "https://localhost:8080/",
          "height": 171
        },
        "outputId": "51d090b4-17bd-466b-de4d-4b2e87c790f4"
      },
      "outputs": [
        {
          "output_type": "display_data",
          "data": {
            "text/plain": [
              "<IPython.core.display.HTML object>"
            ],
            "text/html": [
              "<svg width=\"300\" height=\"150\">\n",
              "    <rect width=\"100%\" height=\"100%\" fill=\"#F3F3F7\" />\n",
              "\n",
              "<line x1=\"150\" y1=\"75\" x2=\"154.4\" y2=\"75.0\"\n",
              "    stroke=\"#663399\" stroke-width=\"2\" />\n",
              "<line x1=\"154.4\" y1=\"75.0\" x2=\"156.7\" y2=\"71.2\"\n",
              "    stroke=\"#663399\" stroke-width=\"2\" />\n",
              "<line x1=\"156.7\" y1=\"71.2\" x2=\"158.9\" y2=\"75.0\"\n",
              "    stroke=\"#663399\" stroke-width=\"2\" />\n",
              "<line x1=\"158.9\" y1=\"75.0\" x2=\"163.3\" y2=\"75.0\"\n",
              "    stroke=\"#663399\" stroke-width=\"2\" />\n",
              "<line x1=\"163.3\" y1=\"75.0\" x2=\"165.6\" y2=\"71.2\"\n",
              "    stroke=\"#663399\" stroke-width=\"2\" />\n",
              "<line x1=\"165.6\" y1=\"71.2\" x2=\"163.3\" y2=\"67.3\"\n",
              "    stroke=\"#663399\" stroke-width=\"2\" />\n",
              "<line x1=\"163.3\" y1=\"67.3\" x2=\"167.8\" y2=\"67.3\"\n",
              "    stroke=\"#663399\" stroke-width=\"2\" />\n",
              "<line x1=\"167.8\" y1=\"67.3\" x2=\"170.0\" y2=\"63.5\"\n",
              "    stroke=\"#663399\" stroke-width=\"2\" />\n",
              "<line x1=\"170.0\" y1=\"63.5\" x2=\"172.2\" y2=\"67.3\"\n",
              "    stroke=\"#663399\" stroke-width=\"2\" />\n",
              "<line x1=\"172.2\" y1=\"67.3\" x2=\"176.7\" y2=\"67.3\"\n",
              "    stroke=\"#663399\" stroke-width=\"2\" />\n",
              "<line x1=\"176.7\" y1=\"67.3\" x2=\"174.4\" y2=\"71.2\"\n",
              "    stroke=\"#663399\" stroke-width=\"2\" />\n",
              "<line x1=\"174.4\" y1=\"71.2\" x2=\"176.7\" y2=\"75.0\"\n",
              "    stroke=\"#663399\" stroke-width=\"2\" />\n",
              "<line x1=\"176.7\" y1=\"75.0\" x2=\"181.1\" y2=\"75.0\"\n",
              "    stroke=\"#663399\" stroke-width=\"2\" />\n",
              "<line x1=\"181.1\" y1=\"75.0\" x2=\"183.3\" y2=\"71.2\"\n",
              "    stroke=\"#663399\" stroke-width=\"2\" />\n",
              "<line x1=\"183.3\" y1=\"71.2\" x2=\"185.6\" y2=\"75.0\"\n",
              "    stroke=\"#663399\" stroke-width=\"2\" />\n",
              "<line x1=\"185.6\" y1=\"75.0\" x2=\"190.0\" y2=\"75.0\"\n",
              "    stroke=\"#663399\" stroke-width=\"2\" />\n",
              "<line x1=\"190.0\" y1=\"75.0\" x2=\"192.2\" y2=\"71.2\"\n",
              "    stroke=\"#663399\" stroke-width=\"2\" />\n",
              "<line x1=\"192.2\" y1=\"71.2\" x2=\"190.0\" y2=\"67.3\"\n",
              "    stroke=\"#663399\" stroke-width=\"2\" />\n",
              "<line x1=\"190.0\" y1=\"67.3\" x2=\"194.4\" y2=\"67.3\"\n",
              "    stroke=\"#663399\" stroke-width=\"2\" />\n",
              "<line x1=\"194.4\" y1=\"67.3\" x2=\"196.7\" y2=\"63.5\"\n",
              "    stroke=\"#663399\" stroke-width=\"2\" />\n",
              "<line x1=\"196.7\" y1=\"63.5\" x2=\"194.4\" y2=\"59.6\"\n",
              "    stroke=\"#663399\" stroke-width=\"2\" />\n",
              "<line x1=\"194.4\" y1=\"59.6\" x2=\"190.0\" y2=\"59.6\"\n",
              "    stroke=\"#663399\" stroke-width=\"2\" />\n",
              "<line x1=\"190.0\" y1=\"59.6\" x2=\"192.2\" y2=\"55.8\"\n",
              "    stroke=\"#663399\" stroke-width=\"2\" />\n",
              "<line x1=\"192.2\" y1=\"55.8\" x2=\"190.0\" y2=\"51.9\"\n",
              "    stroke=\"#663399\" stroke-width=\"2\" />\n",
              "<line x1=\"190.0\" y1=\"51.9\" x2=\"194.4\" y2=\"51.9\"\n",
              "    stroke=\"#663399\" stroke-width=\"2\" />\n",
              "<line x1=\"194.4\" y1=\"51.9\" x2=\"196.7\" y2=\"48.1\"\n",
              "    stroke=\"#663399\" stroke-width=\"2\" />\n",
              "<line x1=\"196.7\" y1=\"48.1\" x2=\"198.9\" y2=\"51.9\"\n",
              "    stroke=\"#663399\" stroke-width=\"2\" />\n",
              "<line x1=\"198.9\" y1=\"51.9\" x2=\"203.3\" y2=\"51.9\"\n",
              "    stroke=\"#663399\" stroke-width=\"2\" />\n",
              "<line x1=\"203.3\" y1=\"51.9\" x2=\"205.6\" y2=\"48.1\"\n",
              "    stroke=\"#663399\" stroke-width=\"2\" />\n",
              "<line x1=\"205.6\" y1=\"48.1\" x2=\"203.3\" y2=\"44.2\"\n",
              "    stroke=\"#663399\" stroke-width=\"2\" />\n",
              "<line x1=\"203.3\" y1=\"44.2\" x2=\"207.8\" y2=\"44.2\"\n",
              "    stroke=\"#663399\" stroke-width=\"2\" />\n",
              "<line x1=\"207.8\" y1=\"44.2\" x2=\"210.0\" y2=\"40.4\"\n",
              "    stroke=\"#663399\" stroke-width=\"2\" />\n",
              "<line x1=\"210.0\" y1=\"40.4\" x2=\"212.2\" y2=\"44.2\"\n",
              "    stroke=\"#663399\" stroke-width=\"2\" />\n",
              "<line x1=\"212.2\" y1=\"44.2\" x2=\"216.7\" y2=\"44.2\"\n",
              "    stroke=\"#663399\" stroke-width=\"2\" />\n",
              "<line x1=\"216.7\" y1=\"44.2\" x2=\"214.4\" y2=\"48.1\"\n",
              "    stroke=\"#663399\" stroke-width=\"2\" />\n",
              "<line x1=\"214.4\" y1=\"48.1\" x2=\"216.7\" y2=\"51.9\"\n",
              "    stroke=\"#663399\" stroke-width=\"2\" />\n",
              "<line x1=\"216.7\" y1=\"51.9\" x2=\"221.1\" y2=\"51.9\"\n",
              "    stroke=\"#663399\" stroke-width=\"2\" />\n",
              "<line x1=\"221.1\" y1=\"51.9\" x2=\"223.3\" y2=\"48.1\"\n",
              "    stroke=\"#663399\" stroke-width=\"2\" />\n",
              "<line x1=\"223.3\" y1=\"48.1\" x2=\"225.6\" y2=\"51.9\"\n",
              "    stroke=\"#663399\" stroke-width=\"2\" />\n",
              "<line x1=\"225.6\" y1=\"51.9\" x2=\"230.0\" y2=\"51.9\"\n",
              "    stroke=\"#663399\" stroke-width=\"2\" />\n",
              "<line x1=\"230.0\" y1=\"51.9\" x2=\"227.8\" y2=\"55.8\"\n",
              "    stroke=\"#663399\" stroke-width=\"2\" />\n",
              "<line x1=\"227.8\" y1=\"55.8\" x2=\"230.0\" y2=\"59.6\"\n",
              "    stroke=\"#663399\" stroke-width=\"2\" />\n",
              "<line x1=\"230.0\" y1=\"59.6\" x2=\"225.6\" y2=\"59.6\"\n",
              "    stroke=\"#663399\" stroke-width=\"2\" />\n",
              "<line x1=\"225.6\" y1=\"59.6\" x2=\"223.3\" y2=\"63.5\"\n",
              "    stroke=\"#663399\" stroke-width=\"2\" />\n",
              "<line x1=\"223.3\" y1=\"63.5\" x2=\"225.6\" y2=\"67.3\"\n",
              "    stroke=\"#663399\" stroke-width=\"2\" />\n",
              "<line x1=\"225.6\" y1=\"67.3\" x2=\"230.0\" y2=\"67.3\"\n",
              "    stroke=\"#663399\" stroke-width=\"2\" />\n",
              "<line x1=\"230.0\" y1=\"67.3\" x2=\"227.8\" y2=\"71.2\"\n",
              "    stroke=\"#663399\" stroke-width=\"2\" />\n",
              "<line x1=\"227.8\" y1=\"71.2\" x2=\"230.0\" y2=\"75.0\"\n",
              "    stroke=\"#663399\" stroke-width=\"2\" />\n",
              "<line x1=\"230.0\" y1=\"75.0\" x2=\"234.4\" y2=\"75.0\"\n",
              "    stroke=\"#663399\" stroke-width=\"2\" />\n",
              "<line x1=\"234.4\" y1=\"75.0\" x2=\"236.7\" y2=\"71.2\"\n",
              "    stroke=\"#663399\" stroke-width=\"2\" />\n",
              "<line x1=\"236.7\" y1=\"71.2\" x2=\"238.9\" y2=\"75.0\"\n",
              "    stroke=\"#663399\" stroke-width=\"2\" />\n",
              "<line x1=\"238.9\" y1=\"75.0\" x2=\"243.3\" y2=\"75.0\"\n",
              "    stroke=\"#663399\" stroke-width=\"2\" />\n",
              "<line x1=\"243.3\" y1=\"75.0\" x2=\"245.6\" y2=\"71.2\"\n",
              "    stroke=\"#663399\" stroke-width=\"2\" />\n",
              "<line x1=\"245.6\" y1=\"71.2\" x2=\"243.3\" y2=\"67.3\"\n",
              "    stroke=\"#663399\" stroke-width=\"2\" />\n",
              "<line x1=\"243.3\" y1=\"67.3\" x2=\"247.8\" y2=\"67.3\"\n",
              "    stroke=\"#663399\" stroke-width=\"2\" />\n",
              "<line x1=\"247.8\" y1=\"67.3\" x2=\"250.0\" y2=\"63.5\"\n",
              "    stroke=\"#663399\" stroke-width=\"2\" />\n",
              "<line x1=\"250.0\" y1=\"63.5\" x2=\"252.2\" y2=\"67.3\"\n",
              "    stroke=\"#663399\" stroke-width=\"2\" />\n",
              "<line x1=\"252.2\" y1=\"67.3\" x2=\"256.7\" y2=\"67.3\"\n",
              "    stroke=\"#663399\" stroke-width=\"2\" />\n",
              "<line x1=\"256.7\" y1=\"67.3\" x2=\"254.4\" y2=\"71.2\"\n",
              "    stroke=\"#663399\" stroke-width=\"2\" />\n",
              "<line x1=\"254.4\" y1=\"71.2\" x2=\"256.7\" y2=\"75.0\"\n",
              "    stroke=\"#663399\" stroke-width=\"2\" />\n",
              "<line x1=\"256.7\" y1=\"75.0\" x2=\"261.1\" y2=\"75.0\"\n",
              "    stroke=\"#663399\" stroke-width=\"2\" />\n",
              "<line x1=\"261.1\" y1=\"75.0\" x2=\"263.3\" y2=\"71.2\"\n",
              "    stroke=\"#663399\" stroke-width=\"2\" />\n",
              "<line x1=\"263.3\" y1=\"71.2\" x2=\"265.6\" y2=\"75.0\"\n",
              "    stroke=\"#663399\" stroke-width=\"2\" />\n",
              "<line x1=\"265.6\" y1=\"75.0\" x2=\"270.0\" y2=\"75.0\"\n",
              "    stroke=\"#663399\" stroke-width=\"2\" />\n",
              "\n",
              "<g transform=\"rotate(-90.0,270.0,75.0) translate(270.0, 75.0)\">\n",
              "    <circle stroke=\"#63A375\" stroke-width=\"2\" fill=\"transparent\" r=\"5.5\" cx=\"0\" cy=\"0\"/>\n",
              "    <polygon points=\"0,12 2,9 -2,9\" style=\"fill:#63A375;stroke:#63A375;stroke-width:2\"/>\n",
              "</g>\n",
              "\n",
              "</svg>"
            ]
          },
          "metadata": {}
        }
      ],
      "source": [
        "make_turtle(delay=0)\n",
        "koch(120)"
      ]
    },
    {
      "cell_type": "markdown",
      "id": "b1c58420",
      "metadata": {
        "tags": [],
        "id": "b1c58420"
      },
      "source": [
        "Once you have koch working, you can use this loop to draw three Koch curves in the shape of a snowflake."
      ]
    },
    {
      "cell_type": "code",
      "execution_count": 106,
      "id": "86d3123b",
      "metadata": {
        "tags": [],
        "id": "86d3123b",
        "colab": {
          "base_uri": "https://localhost:8080/",
          "height": 321
        },
        "outputId": "afb8ef29-eeff-43fc-fc1e-4037633a91c3"
      },
      "outputs": [
        {
          "output_type": "display_data",
          "data": {
            "text/plain": [
              "<IPython.core.display.HTML object>"
            ],
            "text/html": [
              "<svg width=\"300\" height=\"300\">\n",
              "    <rect width=\"100%\" height=\"100%\" fill=\"#F3F3F7\" />\n",
              "\n",
              "<line x1=\"150\" y1=\"150\" x2=\"154.4\" y2=\"150.0\"\n",
              "    stroke=\"#663399\" stroke-width=\"2\" />\n",
              "<line x1=\"154.4\" y1=\"150.0\" x2=\"156.7\" y2=\"146.2\"\n",
              "    stroke=\"#663399\" stroke-width=\"2\" />\n",
              "<line x1=\"156.7\" y1=\"146.2\" x2=\"158.9\" y2=\"150.0\"\n",
              "    stroke=\"#663399\" stroke-width=\"2\" />\n",
              "<line x1=\"158.9\" y1=\"150.0\" x2=\"163.3\" y2=\"150.0\"\n",
              "    stroke=\"#663399\" stroke-width=\"2\" />\n",
              "<line x1=\"163.3\" y1=\"150.0\" x2=\"165.6\" y2=\"146.2\"\n",
              "    stroke=\"#663399\" stroke-width=\"2\" />\n",
              "<line x1=\"165.6\" y1=\"146.2\" x2=\"163.3\" y2=\"142.3\"\n",
              "    stroke=\"#663399\" stroke-width=\"2\" />\n",
              "<line x1=\"163.3\" y1=\"142.3\" x2=\"167.8\" y2=\"142.3\"\n",
              "    stroke=\"#663399\" stroke-width=\"2\" />\n",
              "<line x1=\"167.8\" y1=\"142.3\" x2=\"170.0\" y2=\"138.5\"\n",
              "    stroke=\"#663399\" stroke-width=\"2\" />\n",
              "<line x1=\"170.0\" y1=\"138.5\" x2=\"172.2\" y2=\"142.3\"\n",
              "    stroke=\"#663399\" stroke-width=\"2\" />\n",
              "<line x1=\"172.2\" y1=\"142.3\" x2=\"176.7\" y2=\"142.3\"\n",
              "    stroke=\"#663399\" stroke-width=\"2\" />\n",
              "<line x1=\"176.7\" y1=\"142.3\" x2=\"174.4\" y2=\"146.2\"\n",
              "    stroke=\"#663399\" stroke-width=\"2\" />\n",
              "<line x1=\"174.4\" y1=\"146.2\" x2=\"176.7\" y2=\"150.0\"\n",
              "    stroke=\"#663399\" stroke-width=\"2\" />\n",
              "<line x1=\"176.7\" y1=\"150.0\" x2=\"181.1\" y2=\"150.0\"\n",
              "    stroke=\"#663399\" stroke-width=\"2\" />\n",
              "<line x1=\"181.1\" y1=\"150.0\" x2=\"183.3\" y2=\"146.2\"\n",
              "    stroke=\"#663399\" stroke-width=\"2\" />\n",
              "<line x1=\"183.3\" y1=\"146.2\" x2=\"185.6\" y2=\"150.0\"\n",
              "    stroke=\"#663399\" stroke-width=\"2\" />\n",
              "<line x1=\"185.6\" y1=\"150.0\" x2=\"190.0\" y2=\"150.0\"\n",
              "    stroke=\"#663399\" stroke-width=\"2\" />\n",
              "<line x1=\"190.0\" y1=\"150.0\" x2=\"192.2\" y2=\"146.2\"\n",
              "    stroke=\"#663399\" stroke-width=\"2\" />\n",
              "<line x1=\"192.2\" y1=\"146.2\" x2=\"190.0\" y2=\"142.3\"\n",
              "    stroke=\"#663399\" stroke-width=\"2\" />\n",
              "<line x1=\"190.0\" y1=\"142.3\" x2=\"194.4\" y2=\"142.3\"\n",
              "    stroke=\"#663399\" stroke-width=\"2\" />\n",
              "<line x1=\"194.4\" y1=\"142.3\" x2=\"196.7\" y2=\"138.5\"\n",
              "    stroke=\"#663399\" stroke-width=\"2\" />\n",
              "<line x1=\"196.7\" y1=\"138.5\" x2=\"194.4\" y2=\"134.6\"\n",
              "    stroke=\"#663399\" stroke-width=\"2\" />\n",
              "<line x1=\"194.4\" y1=\"134.6\" x2=\"190.0\" y2=\"134.6\"\n",
              "    stroke=\"#663399\" stroke-width=\"2\" />\n",
              "<line x1=\"190.0\" y1=\"134.6\" x2=\"192.2\" y2=\"130.8\"\n",
              "    stroke=\"#663399\" stroke-width=\"2\" />\n",
              "<line x1=\"192.2\" y1=\"130.8\" x2=\"190.0\" y2=\"126.9\"\n",
              "    stroke=\"#663399\" stroke-width=\"2\" />\n",
              "<line x1=\"190.0\" y1=\"126.9\" x2=\"194.4\" y2=\"126.9\"\n",
              "    stroke=\"#663399\" stroke-width=\"2\" />\n",
              "<line x1=\"194.4\" y1=\"126.9\" x2=\"196.7\" y2=\"123.1\"\n",
              "    stroke=\"#663399\" stroke-width=\"2\" />\n",
              "<line x1=\"196.7\" y1=\"123.1\" x2=\"198.9\" y2=\"126.9\"\n",
              "    stroke=\"#663399\" stroke-width=\"2\" />\n",
              "<line x1=\"198.9\" y1=\"126.9\" x2=\"203.3\" y2=\"126.9\"\n",
              "    stroke=\"#663399\" stroke-width=\"2\" />\n",
              "<line x1=\"203.3\" y1=\"126.9\" x2=\"205.6\" y2=\"123.1\"\n",
              "    stroke=\"#663399\" stroke-width=\"2\" />\n",
              "<line x1=\"205.6\" y1=\"123.1\" x2=\"203.3\" y2=\"119.2\"\n",
              "    stroke=\"#663399\" stroke-width=\"2\" />\n",
              "<line x1=\"203.3\" y1=\"119.2\" x2=\"207.8\" y2=\"119.2\"\n",
              "    stroke=\"#663399\" stroke-width=\"2\" />\n",
              "<line x1=\"207.8\" y1=\"119.2\" x2=\"210.0\" y2=\"115.4\"\n",
              "    stroke=\"#663399\" stroke-width=\"2\" />\n",
              "<line x1=\"210.0\" y1=\"115.4\" x2=\"212.2\" y2=\"119.2\"\n",
              "    stroke=\"#663399\" stroke-width=\"2\" />\n",
              "<line x1=\"212.2\" y1=\"119.2\" x2=\"216.7\" y2=\"119.2\"\n",
              "    stroke=\"#663399\" stroke-width=\"2\" />\n",
              "<line x1=\"216.7\" y1=\"119.2\" x2=\"214.4\" y2=\"123.1\"\n",
              "    stroke=\"#663399\" stroke-width=\"2\" />\n",
              "<line x1=\"214.4\" y1=\"123.1\" x2=\"216.7\" y2=\"126.9\"\n",
              "    stroke=\"#663399\" stroke-width=\"2\" />\n",
              "<line x1=\"216.7\" y1=\"126.9\" x2=\"221.1\" y2=\"126.9\"\n",
              "    stroke=\"#663399\" stroke-width=\"2\" />\n",
              "<line x1=\"221.1\" y1=\"126.9\" x2=\"223.3\" y2=\"123.1\"\n",
              "    stroke=\"#663399\" stroke-width=\"2\" />\n",
              "<line x1=\"223.3\" y1=\"123.1\" x2=\"225.6\" y2=\"126.9\"\n",
              "    stroke=\"#663399\" stroke-width=\"2\" />\n",
              "<line x1=\"225.6\" y1=\"126.9\" x2=\"230.0\" y2=\"126.9\"\n",
              "    stroke=\"#663399\" stroke-width=\"2\" />\n",
              "<line x1=\"230.0\" y1=\"126.9\" x2=\"227.8\" y2=\"130.8\"\n",
              "    stroke=\"#663399\" stroke-width=\"2\" />\n",
              "<line x1=\"227.8\" y1=\"130.8\" x2=\"230.0\" y2=\"134.6\"\n",
              "    stroke=\"#663399\" stroke-width=\"2\" />\n",
              "<line x1=\"230.0\" y1=\"134.6\" x2=\"225.6\" y2=\"134.6\"\n",
              "    stroke=\"#663399\" stroke-width=\"2\" />\n",
              "<line x1=\"225.6\" y1=\"134.6\" x2=\"223.3\" y2=\"138.5\"\n",
              "    stroke=\"#663399\" stroke-width=\"2\" />\n",
              "<line x1=\"223.3\" y1=\"138.5\" x2=\"225.6\" y2=\"142.3\"\n",
              "    stroke=\"#663399\" stroke-width=\"2\" />\n",
              "<line x1=\"225.6\" y1=\"142.3\" x2=\"230.0\" y2=\"142.3\"\n",
              "    stroke=\"#663399\" stroke-width=\"2\" />\n",
              "<line x1=\"230.0\" y1=\"142.3\" x2=\"227.8\" y2=\"146.2\"\n",
              "    stroke=\"#663399\" stroke-width=\"2\" />\n",
              "<line x1=\"227.8\" y1=\"146.2\" x2=\"230.0\" y2=\"150.0\"\n",
              "    stroke=\"#663399\" stroke-width=\"2\" />\n",
              "<line x1=\"230.0\" y1=\"150.0\" x2=\"234.4\" y2=\"150.0\"\n",
              "    stroke=\"#663399\" stroke-width=\"2\" />\n",
              "<line x1=\"234.4\" y1=\"150.0\" x2=\"236.7\" y2=\"146.2\"\n",
              "    stroke=\"#663399\" stroke-width=\"2\" />\n",
              "<line x1=\"236.7\" y1=\"146.2\" x2=\"238.9\" y2=\"150.0\"\n",
              "    stroke=\"#663399\" stroke-width=\"2\" />\n",
              "<line x1=\"238.9\" y1=\"150.0\" x2=\"243.3\" y2=\"150.0\"\n",
              "    stroke=\"#663399\" stroke-width=\"2\" />\n",
              "<line x1=\"243.3\" y1=\"150.0\" x2=\"245.6\" y2=\"146.2\"\n",
              "    stroke=\"#663399\" stroke-width=\"2\" />\n",
              "<line x1=\"245.6\" y1=\"146.2\" x2=\"243.3\" y2=\"142.3\"\n",
              "    stroke=\"#663399\" stroke-width=\"2\" />\n",
              "<line x1=\"243.3\" y1=\"142.3\" x2=\"247.8\" y2=\"142.3\"\n",
              "    stroke=\"#663399\" stroke-width=\"2\" />\n",
              "<line x1=\"247.8\" y1=\"142.3\" x2=\"250.0\" y2=\"138.5\"\n",
              "    stroke=\"#663399\" stroke-width=\"2\" />\n",
              "<line x1=\"250.0\" y1=\"138.5\" x2=\"252.2\" y2=\"142.3\"\n",
              "    stroke=\"#663399\" stroke-width=\"2\" />\n",
              "<line x1=\"252.2\" y1=\"142.3\" x2=\"256.7\" y2=\"142.3\"\n",
              "    stroke=\"#663399\" stroke-width=\"2\" />\n",
              "<line x1=\"256.7\" y1=\"142.3\" x2=\"254.4\" y2=\"146.2\"\n",
              "    stroke=\"#663399\" stroke-width=\"2\" />\n",
              "<line x1=\"254.4\" y1=\"146.2\" x2=\"256.7\" y2=\"150.0\"\n",
              "    stroke=\"#663399\" stroke-width=\"2\" />\n",
              "<line x1=\"256.7\" y1=\"150.0\" x2=\"261.1\" y2=\"150.0\"\n",
              "    stroke=\"#663399\" stroke-width=\"2\" />\n",
              "<line x1=\"261.1\" y1=\"150.0\" x2=\"263.3\" y2=\"146.2\"\n",
              "    stroke=\"#663399\" stroke-width=\"2\" />\n",
              "<line x1=\"263.3\" y1=\"146.2\" x2=\"265.6\" y2=\"150.0\"\n",
              "    stroke=\"#663399\" stroke-width=\"2\" />\n",
              "<line x1=\"265.6\" y1=\"150.0\" x2=\"270.0\" y2=\"150.0\"\n",
              "    stroke=\"#663399\" stroke-width=\"2\" />\n",
              "<line x1=\"270.0\" y1=\"150.0\" x2=\"267.8\" y2=\"153.8\"\n",
              "    stroke=\"#663399\" stroke-width=\"2\" />\n",
              "<line x1=\"267.8\" y1=\"153.8\" x2=\"270.0\" y2=\"157.7\"\n",
              "    stroke=\"#663399\" stroke-width=\"2\" />\n",
              "<line x1=\"270.0\" y1=\"157.7\" x2=\"265.6\" y2=\"157.7\"\n",
              "    stroke=\"#663399\" stroke-width=\"2\" />\n",
              "<line x1=\"265.6\" y1=\"157.7\" x2=\"263.3\" y2=\"161.5\"\n",
              "    stroke=\"#663399\" stroke-width=\"2\" />\n",
              "<line x1=\"263.3\" y1=\"161.5\" x2=\"265.6\" y2=\"165.4\"\n",
              "    stroke=\"#663399\" stroke-width=\"2\" />\n",
              "<line x1=\"265.6\" y1=\"165.4\" x2=\"270.0\" y2=\"165.4\"\n",
              "    stroke=\"#663399\" stroke-width=\"2\" />\n",
              "<line x1=\"270.0\" y1=\"165.4\" x2=\"267.8\" y2=\"169.2\"\n",
              "    stroke=\"#663399\" stroke-width=\"2\" />\n",
              "<line x1=\"267.8\" y1=\"169.2\" x2=\"270.0\" y2=\"173.1\"\n",
              "    stroke=\"#663399\" stroke-width=\"2\" />\n",
              "<line x1=\"270.0\" y1=\"173.1\" x2=\"265.6\" y2=\"173.1\"\n",
              "    stroke=\"#663399\" stroke-width=\"2\" />\n",
              "<line x1=\"265.6\" y1=\"173.1\" x2=\"263.3\" y2=\"176.9\"\n",
              "    stroke=\"#663399\" stroke-width=\"2\" />\n",
              "<line x1=\"263.3\" y1=\"176.9\" x2=\"261.1\" y2=\"173.1\"\n",
              "    stroke=\"#663399\" stroke-width=\"2\" />\n",
              "<line x1=\"261.1\" y1=\"173.1\" x2=\"256.7\" y2=\"173.1\"\n",
              "    stroke=\"#663399\" stroke-width=\"2\" />\n",
              "<line x1=\"256.7\" y1=\"173.1\" x2=\"254.4\" y2=\"176.9\"\n",
              "    stroke=\"#663399\" stroke-width=\"2\" />\n",
              "<line x1=\"254.4\" y1=\"176.9\" x2=\"256.7\" y2=\"180.8\"\n",
              "    stroke=\"#663399\" stroke-width=\"2\" />\n",
              "<line x1=\"256.7\" y1=\"180.8\" x2=\"252.2\" y2=\"180.8\"\n",
              "    stroke=\"#663399\" stroke-width=\"2\" />\n",
              "<line x1=\"252.2\" y1=\"180.8\" x2=\"250.0\" y2=\"184.6\"\n",
              "    stroke=\"#663399\" stroke-width=\"2\" />\n",
              "<line x1=\"250.0\" y1=\"184.6\" x2=\"252.2\" y2=\"188.5\"\n",
              "    stroke=\"#663399\" stroke-width=\"2\" />\n",
              "<line x1=\"252.2\" y1=\"188.5\" x2=\"256.7\" y2=\"188.5\"\n",
              "    stroke=\"#663399\" stroke-width=\"2\" />\n",
              "<line x1=\"256.7\" y1=\"188.5\" x2=\"254.4\" y2=\"192.3\"\n",
              "    stroke=\"#663399\" stroke-width=\"2\" />\n",
              "<line x1=\"254.4\" y1=\"192.3\" x2=\"256.7\" y2=\"196.2\"\n",
              "    stroke=\"#663399\" stroke-width=\"2\" />\n",
              "<line x1=\"256.7\" y1=\"196.2\" x2=\"261.1\" y2=\"196.2\"\n",
              "    stroke=\"#663399\" stroke-width=\"2\" />\n",
              "<line x1=\"261.1\" y1=\"196.2\" x2=\"263.3\" y2=\"192.3\"\n",
              "    stroke=\"#663399\" stroke-width=\"2\" />\n",
              "<line x1=\"263.3\" y1=\"192.3\" x2=\"265.6\" y2=\"196.2\"\n",
              "    stroke=\"#663399\" stroke-width=\"2\" />\n",
              "<line x1=\"265.6\" y1=\"196.2\" x2=\"270.0\" y2=\"196.2\"\n",
              "    stroke=\"#663399\" stroke-width=\"2\" />\n",
              "<line x1=\"270.0\" y1=\"196.2\" x2=\"267.8\" y2=\"200.0\"\n",
              "    stroke=\"#663399\" stroke-width=\"2\" />\n",
              "<line x1=\"267.8\" y1=\"200.0\" x2=\"270.0\" y2=\"203.9\"\n",
              "    stroke=\"#663399\" stroke-width=\"2\" />\n",
              "<line x1=\"270.0\" y1=\"203.9\" x2=\"265.6\" y2=\"203.9\"\n",
              "    stroke=\"#663399\" stroke-width=\"2\" />\n",
              "<line x1=\"265.6\" y1=\"203.9\" x2=\"263.3\" y2=\"207.7\"\n",
              "    stroke=\"#663399\" stroke-width=\"2\" />\n",
              "<line x1=\"263.3\" y1=\"207.7\" x2=\"265.6\" y2=\"211.6\"\n",
              "    stroke=\"#663399\" stroke-width=\"2\" />\n",
              "<line x1=\"265.6\" y1=\"211.6\" x2=\"270.0\" y2=\"211.6\"\n",
              "    stroke=\"#663399\" stroke-width=\"2\" />\n",
              "<line x1=\"270.0\" y1=\"211.6\" x2=\"267.8\" y2=\"215.4\"\n",
              "    stroke=\"#663399\" stroke-width=\"2\" />\n",
              "<line x1=\"267.8\" y1=\"215.4\" x2=\"270.0\" y2=\"219.3\"\n",
              "    stroke=\"#663399\" stroke-width=\"2\" />\n",
              "<line x1=\"270.0\" y1=\"219.3\" x2=\"265.6\" y2=\"219.3\"\n",
              "    stroke=\"#663399\" stroke-width=\"2\" />\n",
              "<line x1=\"265.6\" y1=\"219.3\" x2=\"263.3\" y2=\"223.1\"\n",
              "    stroke=\"#663399\" stroke-width=\"2\" />\n",
              "<line x1=\"263.3\" y1=\"223.1\" x2=\"261.1\" y2=\"219.3\"\n",
              "    stroke=\"#663399\" stroke-width=\"2\" />\n",
              "<line x1=\"261.1\" y1=\"219.3\" x2=\"256.7\" y2=\"219.3\"\n",
              "    stroke=\"#663399\" stroke-width=\"2\" />\n",
              "<line x1=\"256.7\" y1=\"219.3\" x2=\"254.4\" y2=\"223.1\"\n",
              "    stroke=\"#663399\" stroke-width=\"2\" />\n",
              "<line x1=\"254.4\" y1=\"223.1\" x2=\"256.7\" y2=\"227.0\"\n",
              "    stroke=\"#663399\" stroke-width=\"2\" />\n",
              "<line x1=\"256.7\" y1=\"227.0\" x2=\"252.2\" y2=\"227.0\"\n",
              "    stroke=\"#663399\" stroke-width=\"2\" />\n",
              "<line x1=\"252.2\" y1=\"227.0\" x2=\"250.0\" y2=\"230.8\"\n",
              "    stroke=\"#663399\" stroke-width=\"2\" />\n",
              "<line x1=\"250.0\" y1=\"230.8\" x2=\"247.8\" y2=\"227.0\"\n",
              "    stroke=\"#663399\" stroke-width=\"2\" />\n",
              "<line x1=\"247.8\" y1=\"227.0\" x2=\"243.3\" y2=\"227.0\"\n",
              "    stroke=\"#663399\" stroke-width=\"2\" />\n",
              "<line x1=\"243.3\" y1=\"227.0\" x2=\"245.6\" y2=\"223.1\"\n",
              "    stroke=\"#663399\" stroke-width=\"2\" />\n",
              "<line x1=\"245.6\" y1=\"223.1\" x2=\"243.3\" y2=\"219.3\"\n",
              "    stroke=\"#663399\" stroke-width=\"2\" />\n",
              "<line x1=\"243.3\" y1=\"219.3\" x2=\"238.9\" y2=\"219.3\"\n",
              "    stroke=\"#663399\" stroke-width=\"2\" />\n",
              "<line x1=\"238.9\" y1=\"219.3\" x2=\"236.7\" y2=\"223.1\"\n",
              "    stroke=\"#663399\" stroke-width=\"2\" />\n",
              "<line x1=\"236.7\" y1=\"223.1\" x2=\"234.4\" y2=\"219.3\"\n",
              "    stroke=\"#663399\" stroke-width=\"2\" />\n",
              "<line x1=\"234.4\" y1=\"219.3\" x2=\"230.0\" y2=\"219.3\"\n",
              "    stroke=\"#663399\" stroke-width=\"2\" />\n",
              "<line x1=\"230.0\" y1=\"219.3\" x2=\"227.8\" y2=\"223.1\"\n",
              "    stroke=\"#663399\" stroke-width=\"2\" />\n",
              "<line x1=\"227.8\" y1=\"223.1\" x2=\"230.0\" y2=\"227.0\"\n",
              "    stroke=\"#663399\" stroke-width=\"2\" />\n",
              "<line x1=\"230.0\" y1=\"227.0\" x2=\"225.6\" y2=\"227.0\"\n",
              "    stroke=\"#663399\" stroke-width=\"2\" />\n",
              "<line x1=\"225.6\" y1=\"227.0\" x2=\"223.3\" y2=\"230.8\"\n",
              "    stroke=\"#663399\" stroke-width=\"2\" />\n",
              "<line x1=\"223.3\" y1=\"230.8\" x2=\"225.6\" y2=\"234.7\"\n",
              "    stroke=\"#663399\" stroke-width=\"2\" />\n",
              "<line x1=\"225.6\" y1=\"234.7\" x2=\"230.0\" y2=\"234.7\"\n",
              "    stroke=\"#663399\" stroke-width=\"2\" />\n",
              "<line x1=\"230.0\" y1=\"234.7\" x2=\"227.8\" y2=\"238.5\"\n",
              "    stroke=\"#663399\" stroke-width=\"2\" />\n",
              "<line x1=\"227.8\" y1=\"238.5\" x2=\"230.0\" y2=\"242.4\"\n",
              "    stroke=\"#663399\" stroke-width=\"2\" />\n",
              "<line x1=\"230.0\" y1=\"242.4\" x2=\"225.6\" y2=\"242.4\"\n",
              "    stroke=\"#663399\" stroke-width=\"2\" />\n",
              "<line x1=\"225.6\" y1=\"242.4\" x2=\"223.3\" y2=\"246.2\"\n",
              "    stroke=\"#663399\" stroke-width=\"2\" />\n",
              "<line x1=\"223.3\" y1=\"246.2\" x2=\"221.1\" y2=\"242.4\"\n",
              "    stroke=\"#663399\" stroke-width=\"2\" />\n",
              "<line x1=\"221.1\" y1=\"242.4\" x2=\"216.7\" y2=\"242.4\"\n",
              "    stroke=\"#663399\" stroke-width=\"2\" />\n",
              "<line x1=\"216.7\" y1=\"242.4\" x2=\"214.4\" y2=\"246.2\"\n",
              "    stroke=\"#663399\" stroke-width=\"2\" />\n",
              "<line x1=\"214.4\" y1=\"246.2\" x2=\"216.7\" y2=\"250.1\"\n",
              "    stroke=\"#663399\" stroke-width=\"2\" />\n",
              "<line x1=\"216.7\" y1=\"250.1\" x2=\"212.2\" y2=\"250.1\"\n",
              "    stroke=\"#663399\" stroke-width=\"2\" />\n",
              "<line x1=\"212.2\" y1=\"250.1\" x2=\"210.0\" y2=\"253.9\"\n",
              "    stroke=\"#663399\" stroke-width=\"2\" />\n",
              "<line x1=\"210.0\" y1=\"253.9\" x2=\"207.8\" y2=\"250.1\"\n",
              "    stroke=\"#663399\" stroke-width=\"2\" />\n",
              "<line x1=\"207.8\" y1=\"250.1\" x2=\"203.3\" y2=\"250.1\"\n",
              "    stroke=\"#663399\" stroke-width=\"2\" />\n",
              "<line x1=\"203.3\" y1=\"250.1\" x2=\"205.6\" y2=\"246.2\"\n",
              "    stroke=\"#663399\" stroke-width=\"2\" />\n",
              "<line x1=\"205.6\" y1=\"246.2\" x2=\"203.3\" y2=\"242.4\"\n",
              "    stroke=\"#663399\" stroke-width=\"2\" />\n",
              "<line x1=\"203.3\" y1=\"242.4\" x2=\"198.9\" y2=\"242.4\"\n",
              "    stroke=\"#663399\" stroke-width=\"2\" />\n",
              "<line x1=\"198.9\" y1=\"242.4\" x2=\"196.7\" y2=\"246.2\"\n",
              "    stroke=\"#663399\" stroke-width=\"2\" />\n",
              "<line x1=\"196.7\" y1=\"246.2\" x2=\"194.4\" y2=\"242.4\"\n",
              "    stroke=\"#663399\" stroke-width=\"2\" />\n",
              "<line x1=\"194.4\" y1=\"242.4\" x2=\"190.0\" y2=\"242.4\"\n",
              "    stroke=\"#663399\" stroke-width=\"2\" />\n",
              "<line x1=\"190.0\" y1=\"242.4\" x2=\"192.2\" y2=\"238.5\"\n",
              "    stroke=\"#663399\" stroke-width=\"2\" />\n",
              "<line x1=\"192.2\" y1=\"238.5\" x2=\"190.0\" y2=\"234.7\"\n",
              "    stroke=\"#663399\" stroke-width=\"2\" />\n",
              "<line x1=\"190.0\" y1=\"234.7\" x2=\"194.4\" y2=\"234.7\"\n",
              "    stroke=\"#663399\" stroke-width=\"2\" />\n",
              "<line x1=\"194.4\" y1=\"234.7\" x2=\"196.7\" y2=\"230.8\"\n",
              "    stroke=\"#663399\" stroke-width=\"2\" />\n",
              "<line x1=\"196.7\" y1=\"230.8\" x2=\"194.4\" y2=\"227.0\"\n",
              "    stroke=\"#663399\" stroke-width=\"2\" />\n",
              "<line x1=\"194.4\" y1=\"227.0\" x2=\"190.0\" y2=\"227.0\"\n",
              "    stroke=\"#663399\" stroke-width=\"2\" />\n",
              "<line x1=\"190.0\" y1=\"227.0\" x2=\"192.2\" y2=\"223.1\"\n",
              "    stroke=\"#663399\" stroke-width=\"2\" />\n",
              "<line x1=\"192.2\" y1=\"223.1\" x2=\"190.0\" y2=\"219.3\"\n",
              "    stroke=\"#663399\" stroke-width=\"2\" />\n",
              "<line x1=\"190.0\" y1=\"219.3\" x2=\"185.6\" y2=\"219.3\"\n",
              "    stroke=\"#663399\" stroke-width=\"2\" />\n",
              "<line x1=\"185.6\" y1=\"219.3\" x2=\"183.3\" y2=\"223.1\"\n",
              "    stroke=\"#663399\" stroke-width=\"2\" />\n",
              "<line x1=\"183.3\" y1=\"223.1\" x2=\"181.1\" y2=\"219.3\"\n",
              "    stroke=\"#663399\" stroke-width=\"2\" />\n",
              "<line x1=\"181.1\" y1=\"219.3\" x2=\"176.7\" y2=\"219.3\"\n",
              "    stroke=\"#663399\" stroke-width=\"2\" />\n",
              "<line x1=\"176.7\" y1=\"219.3\" x2=\"174.4\" y2=\"223.1\"\n",
              "    stroke=\"#663399\" stroke-width=\"2\" />\n",
              "<line x1=\"174.4\" y1=\"223.1\" x2=\"176.7\" y2=\"227.0\"\n",
              "    stroke=\"#663399\" stroke-width=\"2\" />\n",
              "<line x1=\"176.7\" y1=\"227.0\" x2=\"172.2\" y2=\"227.0\"\n",
              "    stroke=\"#663399\" stroke-width=\"2\" />\n",
              "<line x1=\"172.2\" y1=\"227.0\" x2=\"170.0\" y2=\"230.8\"\n",
              "    stroke=\"#663399\" stroke-width=\"2\" />\n",
              "<line x1=\"170.0\" y1=\"230.8\" x2=\"167.8\" y2=\"227.0\"\n",
              "    stroke=\"#663399\" stroke-width=\"2\" />\n",
              "<line x1=\"167.8\" y1=\"227.0\" x2=\"163.3\" y2=\"227.0\"\n",
              "    stroke=\"#663399\" stroke-width=\"2\" />\n",
              "<line x1=\"163.3\" y1=\"227.0\" x2=\"165.6\" y2=\"223.1\"\n",
              "    stroke=\"#663399\" stroke-width=\"2\" />\n",
              "<line x1=\"165.6\" y1=\"223.1\" x2=\"163.3\" y2=\"219.3\"\n",
              "    stroke=\"#663399\" stroke-width=\"2\" />\n",
              "<line x1=\"163.3\" y1=\"219.3\" x2=\"158.9\" y2=\"219.3\"\n",
              "    stroke=\"#663399\" stroke-width=\"2\" />\n",
              "<line x1=\"158.9\" y1=\"219.3\" x2=\"156.7\" y2=\"223.1\"\n",
              "    stroke=\"#663399\" stroke-width=\"2\" />\n",
              "<line x1=\"156.7\" y1=\"223.1\" x2=\"154.4\" y2=\"219.3\"\n",
              "    stroke=\"#663399\" stroke-width=\"2\" />\n",
              "<line x1=\"154.4\" y1=\"219.3\" x2=\"150.0\" y2=\"219.3\"\n",
              "    stroke=\"#663399\" stroke-width=\"2\" />\n",
              "<line x1=\"150.0\" y1=\"219.3\" x2=\"152.2\" y2=\"215.4\"\n",
              "    stroke=\"#663399\" stroke-width=\"2\" />\n",
              "<line x1=\"152.2\" y1=\"215.4\" x2=\"150.0\" y2=\"211.6\"\n",
              "    stroke=\"#663399\" stroke-width=\"2\" />\n",
              "<line x1=\"150.0\" y1=\"211.6\" x2=\"154.4\" y2=\"211.6\"\n",
              "    stroke=\"#663399\" stroke-width=\"2\" />\n",
              "<line x1=\"154.4\" y1=\"211.6\" x2=\"156.7\" y2=\"207.7\"\n",
              "    stroke=\"#663399\" stroke-width=\"2\" />\n",
              "<line x1=\"156.7\" y1=\"207.7\" x2=\"154.4\" y2=\"203.9\"\n",
              "    stroke=\"#663399\" stroke-width=\"2\" />\n",
              "<line x1=\"154.4\" y1=\"203.9\" x2=\"150.0\" y2=\"203.9\"\n",
              "    stroke=\"#663399\" stroke-width=\"2\" />\n",
              "<line x1=\"150.0\" y1=\"203.9\" x2=\"152.2\" y2=\"200.0\"\n",
              "    stroke=\"#663399\" stroke-width=\"2\" />\n",
              "<line x1=\"152.2\" y1=\"200.0\" x2=\"150.0\" y2=\"196.2\"\n",
              "    stroke=\"#663399\" stroke-width=\"2\" />\n",
              "<line x1=\"150.0\" y1=\"196.2\" x2=\"154.4\" y2=\"196.2\"\n",
              "    stroke=\"#663399\" stroke-width=\"2\" />\n",
              "<line x1=\"154.4\" y1=\"196.2\" x2=\"156.7\" y2=\"192.3\"\n",
              "    stroke=\"#663399\" stroke-width=\"2\" />\n",
              "<line x1=\"156.7\" y1=\"192.3\" x2=\"158.9\" y2=\"196.2\"\n",
              "    stroke=\"#663399\" stroke-width=\"2\" />\n",
              "<line x1=\"158.9\" y1=\"196.2\" x2=\"163.3\" y2=\"196.2\"\n",
              "    stroke=\"#663399\" stroke-width=\"2\" />\n",
              "<line x1=\"163.3\" y1=\"196.2\" x2=\"165.6\" y2=\"192.3\"\n",
              "    stroke=\"#663399\" stroke-width=\"2\" />\n",
              "<line x1=\"165.6\" y1=\"192.3\" x2=\"163.3\" y2=\"188.5\"\n",
              "    stroke=\"#663399\" stroke-width=\"2\" />\n",
              "<line x1=\"163.3\" y1=\"188.5\" x2=\"167.8\" y2=\"188.5\"\n",
              "    stroke=\"#663399\" stroke-width=\"2\" />\n",
              "<line x1=\"167.8\" y1=\"188.5\" x2=\"170.0\" y2=\"184.6\"\n",
              "    stroke=\"#663399\" stroke-width=\"2\" />\n",
              "<line x1=\"170.0\" y1=\"184.6\" x2=\"167.8\" y2=\"180.8\"\n",
              "    stroke=\"#663399\" stroke-width=\"2\" />\n",
              "<line x1=\"167.8\" y1=\"180.8\" x2=\"163.3\" y2=\"180.8\"\n",
              "    stroke=\"#663399\" stroke-width=\"2\" />\n",
              "<line x1=\"163.3\" y1=\"180.8\" x2=\"165.6\" y2=\"176.9\"\n",
              "    stroke=\"#663399\" stroke-width=\"2\" />\n",
              "<line x1=\"165.6\" y1=\"176.9\" x2=\"163.3\" y2=\"173.1\"\n",
              "    stroke=\"#663399\" stroke-width=\"2\" />\n",
              "<line x1=\"163.3\" y1=\"173.1\" x2=\"158.9\" y2=\"173.1\"\n",
              "    stroke=\"#663399\" stroke-width=\"2\" />\n",
              "<line x1=\"158.9\" y1=\"173.1\" x2=\"156.7\" y2=\"176.9\"\n",
              "    stroke=\"#663399\" stroke-width=\"2\" />\n",
              "<line x1=\"156.7\" y1=\"176.9\" x2=\"154.4\" y2=\"173.1\"\n",
              "    stroke=\"#663399\" stroke-width=\"2\" />\n",
              "<line x1=\"154.4\" y1=\"173.1\" x2=\"150.0\" y2=\"173.1\"\n",
              "    stroke=\"#663399\" stroke-width=\"2\" />\n",
              "<line x1=\"150.0\" y1=\"173.1\" x2=\"152.2\" y2=\"169.2\"\n",
              "    stroke=\"#663399\" stroke-width=\"2\" />\n",
              "<line x1=\"152.2\" y1=\"169.2\" x2=\"150.0\" y2=\"165.4\"\n",
              "    stroke=\"#663399\" stroke-width=\"2\" />\n",
              "<line x1=\"150.0\" y1=\"165.4\" x2=\"154.4\" y2=\"165.4\"\n",
              "    stroke=\"#663399\" stroke-width=\"2\" />\n",
              "<line x1=\"154.4\" y1=\"165.4\" x2=\"156.7\" y2=\"161.5\"\n",
              "    stroke=\"#663399\" stroke-width=\"2\" />\n",
              "<line x1=\"156.7\" y1=\"161.5\" x2=\"154.4\" y2=\"157.7\"\n",
              "    stroke=\"#663399\" stroke-width=\"2\" />\n",
              "<line x1=\"154.4\" y1=\"157.7\" x2=\"150.0\" y2=\"157.7\"\n",
              "    stroke=\"#663399\" stroke-width=\"2\" />\n",
              "<line x1=\"150.0\" y1=\"157.7\" x2=\"152.2\" y2=\"153.8\"\n",
              "    stroke=\"#663399\" stroke-width=\"2\" />\n",
              "<line x1=\"152.2\" y1=\"153.8\" x2=\"150.0\" y2=\"150.0\"\n",
              "    stroke=\"#663399\" stroke-width=\"2\" />\n",
              "\n",
              "<g transform=\"rotate(-90.0,150.0,150.0) translate(150.0, 150.0)\">\n",
              "    <circle stroke=\"#63A375\" stroke-width=\"2\" fill=\"transparent\" r=\"5.5\" cx=\"0\" cy=\"0\"/>\n",
              "    <polygon points=\"0,12 2,9 -2,9\" style=\"fill:#63A375;stroke:#63A375;stroke-width:2\"/>\n",
              "</g>\n",
              "\n",
              "</svg>"
            ]
          },
          "metadata": {}
        }
      ],
      "source": [
        "make_turtle(delay=0, height=300)\n",
        "for i in range(3):\n",
        "    koch(120)\n",
        "    right(120)"
      ]
    },
    {
      "cell_type": "markdown",
      "id": "4c964239",
      "metadata": {
        "id": "4c964239"
      },
      "source": [
        "### Exercise\n",
        "\n",
        "Virtual assistants know about the functions in the `jupyturtle` module, but there are many versions of these functions, with different names, so a VA might not know which one you are talking about.\n",
        "\n",
        "To solve this problem, you can provide additional information before you ask a question.\n",
        "For example, you could start a prompt with \"Here's a program that uses the `jupyturtle` module,\" and then paste in one of the examples from this chapter.\n",
        "After that, the VA should be able to generate code that uses this module.\n",
        "\n",
        "As an example, ask a VA for a program that draws a Sierpiński triangle.\n",
        "The code you get should be a good starting place, but you might have to do some debugging.\n",
        "If the first attempt doesn't work, you can tell the VA what happened and ask for help -- or you can debug it yourself."
      ]
    },
    {
      "cell_type": "code",
      "execution_count": 107,
      "id": "68439acf",
      "metadata": {
        "id": "68439acf"
      },
      "outputs": [],
      "source": [
        "# Code generated by Gemini AI\n",
        "\n",
        "from jupyturtle import forward, left, right, back, make_turtle\n",
        "\n",
        "def draw_sierpinski(length, depth):\n",
        "    if depth == 0:\n",
        "        for i in range(3):\n",
        "            forward(length)\n",
        "            left(120)\n",
        "    else:\n",
        "        draw_sierpinski(length / 2, depth - 1)\n",
        "        forward(length / 2)\n",
        "        draw_sierpinski(length / 2, depth - 1)\n",
        "        back(length / 2)\n",
        "        left(60)\n",
        "        forward(length / 2)\n",
        "        right(60)\n",
        "        draw_sierpinski(length / 2, depth - 1)\n",
        "        left(60)\n",
        "        back(length / 2)\n",
        "        right(60)"
      ]
    },
    {
      "cell_type": "markdown",
      "id": "6a95097a",
      "metadata": {
        "id": "6a95097a"
      },
      "source": [
        "Here's what the result might look like, although the version you get might be different."
      ]
    },
    {
      "cell_type": "code",
      "execution_count": 108,
      "id": "43470b3d",
      "metadata": {
        "id": "43470b3d",
        "colab": {
          "base_uri": "https://localhost:8080/",
          "height": 221
        },
        "outputId": "5da3d2be-33ad-473c-c11c-ceffe65d1e08"
      },
      "outputs": [
        {
          "output_type": "display_data",
          "data": {
            "text/plain": [
              "<IPython.core.display.HTML object>"
            ],
            "text/html": [
              "<svg width=\"300\" height=\"200\">\n",
              "    <rect width=\"100%\" height=\"100%\" fill=\"#F3F3F7\" />\n",
              "\n",
              "<line x1=\"150\" y1=\"100\" x2=\"162.5\" y2=\"100.0\"\n",
              "    stroke=\"#663399\" stroke-width=\"2\" />\n",
              "<line x1=\"162.5\" y1=\"100.0\" x2=\"156.2\" y2=\"89.2\"\n",
              "    stroke=\"#663399\" stroke-width=\"2\" />\n",
              "<line x1=\"156.2\" y1=\"89.2\" x2=\"150.0\" y2=\"100.0\"\n",
              "    stroke=\"#663399\" stroke-width=\"2\" />\n",
              "<line x1=\"150.0\" y1=\"100.0\" x2=\"162.5\" y2=\"100.0\"\n",
              "    stroke=\"#663399\" stroke-width=\"2\" />\n",
              "<line x1=\"162.5\" y1=\"100.0\" x2=\"175.0\" y2=\"100.0\"\n",
              "    stroke=\"#663399\" stroke-width=\"2\" />\n",
              "<line x1=\"175.0\" y1=\"100.0\" x2=\"168.8\" y2=\"89.2\"\n",
              "    stroke=\"#663399\" stroke-width=\"2\" />\n",
              "<line x1=\"168.8\" y1=\"89.2\" x2=\"162.5\" y2=\"100.0\"\n",
              "    stroke=\"#663399\" stroke-width=\"2\" />\n",
              "<line x1=\"162.5\" y1=\"100.0\" x2=\"150.0\" y2=\"100.0\"\n",
              "    stroke=\"#663399\" stroke-width=\"2\" />\n",
              "<line x1=\"150.0\" y1=\"100.0\" x2=\"156.2\" y2=\"89.2\"\n",
              "    stroke=\"#663399\" stroke-width=\"2\" />\n",
              "<line x1=\"156.2\" y1=\"89.2\" x2=\"168.8\" y2=\"89.2\"\n",
              "    stroke=\"#663399\" stroke-width=\"2\" />\n",
              "<line x1=\"168.8\" y1=\"89.2\" x2=\"162.5\" y2=\"78.3\"\n",
              "    stroke=\"#663399\" stroke-width=\"2\" />\n",
              "<line x1=\"162.5\" y1=\"78.3\" x2=\"156.2\" y2=\"89.2\"\n",
              "    stroke=\"#663399\" stroke-width=\"2\" />\n",
              "<line x1=\"156.2\" y1=\"89.2\" x2=\"150.0\" y2=\"100.0\"\n",
              "    stroke=\"#663399\" stroke-width=\"2\" />\n",
              "<line x1=\"150.0\" y1=\"100.0\" x2=\"175.0\" y2=\"100.0\"\n",
              "    stroke=\"#663399\" stroke-width=\"2\" />\n",
              "<line x1=\"175.0\" y1=\"100.0\" x2=\"187.5\" y2=\"100.0\"\n",
              "    stroke=\"#663399\" stroke-width=\"2\" />\n",
              "<line x1=\"187.5\" y1=\"100.0\" x2=\"181.2\" y2=\"89.2\"\n",
              "    stroke=\"#663399\" stroke-width=\"2\" />\n",
              "<line x1=\"181.2\" y1=\"89.2\" x2=\"175.0\" y2=\"100.0\"\n",
              "    stroke=\"#663399\" stroke-width=\"2\" />\n",
              "<line x1=\"175.0\" y1=\"100.0\" x2=\"187.5\" y2=\"100.0\"\n",
              "    stroke=\"#663399\" stroke-width=\"2\" />\n",
              "<line x1=\"187.5\" y1=\"100.0\" x2=\"200.0\" y2=\"100.0\"\n",
              "    stroke=\"#663399\" stroke-width=\"2\" />\n",
              "<line x1=\"200.0\" y1=\"100.0\" x2=\"193.8\" y2=\"89.2\"\n",
              "    stroke=\"#663399\" stroke-width=\"2\" />\n",
              "<line x1=\"193.8\" y1=\"89.2\" x2=\"187.5\" y2=\"100.0\"\n",
              "    stroke=\"#663399\" stroke-width=\"2\" />\n",
              "<line x1=\"187.5\" y1=\"100.0\" x2=\"175.0\" y2=\"100.0\"\n",
              "    stroke=\"#663399\" stroke-width=\"2\" />\n",
              "<line x1=\"175.0\" y1=\"100.0\" x2=\"181.2\" y2=\"89.2\"\n",
              "    stroke=\"#663399\" stroke-width=\"2\" />\n",
              "<line x1=\"181.2\" y1=\"89.2\" x2=\"193.8\" y2=\"89.2\"\n",
              "    stroke=\"#663399\" stroke-width=\"2\" />\n",
              "<line x1=\"193.8\" y1=\"89.2\" x2=\"187.5\" y2=\"78.3\"\n",
              "    stroke=\"#663399\" stroke-width=\"2\" />\n",
              "<line x1=\"187.5\" y1=\"78.3\" x2=\"181.2\" y2=\"89.2\"\n",
              "    stroke=\"#663399\" stroke-width=\"2\" />\n",
              "<line x1=\"181.2\" y1=\"89.2\" x2=\"175.0\" y2=\"100.0\"\n",
              "    stroke=\"#663399\" stroke-width=\"2\" />\n",
              "<line x1=\"175.0\" y1=\"100.0\" x2=\"150.0\" y2=\"100.0\"\n",
              "    stroke=\"#663399\" stroke-width=\"2\" />\n",
              "<line x1=\"150.0\" y1=\"100.0\" x2=\"162.5\" y2=\"78.3\"\n",
              "    stroke=\"#663399\" stroke-width=\"2\" />\n",
              "<line x1=\"162.5\" y1=\"78.3\" x2=\"175.0\" y2=\"78.3\"\n",
              "    stroke=\"#663399\" stroke-width=\"2\" />\n",
              "<line x1=\"175.0\" y1=\"78.3\" x2=\"168.8\" y2=\"67.5\"\n",
              "    stroke=\"#663399\" stroke-width=\"2\" />\n",
              "<line x1=\"168.8\" y1=\"67.5\" x2=\"162.5\" y2=\"78.3\"\n",
              "    stroke=\"#663399\" stroke-width=\"2\" />\n",
              "<line x1=\"162.5\" y1=\"78.3\" x2=\"175.0\" y2=\"78.3\"\n",
              "    stroke=\"#663399\" stroke-width=\"2\" />\n",
              "<line x1=\"175.0\" y1=\"78.3\" x2=\"187.5\" y2=\"78.3\"\n",
              "    stroke=\"#663399\" stroke-width=\"2\" />\n",
              "<line x1=\"187.5\" y1=\"78.3\" x2=\"181.2\" y2=\"67.5\"\n",
              "    stroke=\"#663399\" stroke-width=\"2\" />\n",
              "<line x1=\"181.2\" y1=\"67.5\" x2=\"175.0\" y2=\"78.3\"\n",
              "    stroke=\"#663399\" stroke-width=\"2\" />\n",
              "<line x1=\"175.0\" y1=\"78.3\" x2=\"162.5\" y2=\"78.3\"\n",
              "    stroke=\"#663399\" stroke-width=\"2\" />\n",
              "<line x1=\"162.5\" y1=\"78.3\" x2=\"168.8\" y2=\"67.5\"\n",
              "    stroke=\"#663399\" stroke-width=\"2\" />\n",
              "<line x1=\"168.8\" y1=\"67.5\" x2=\"181.2\" y2=\"67.5\"\n",
              "    stroke=\"#663399\" stroke-width=\"2\" />\n",
              "<line x1=\"181.2\" y1=\"67.5\" x2=\"175.0\" y2=\"56.7\"\n",
              "    stroke=\"#663399\" stroke-width=\"2\" />\n",
              "<line x1=\"175.0\" y1=\"56.7\" x2=\"168.8\" y2=\"67.5\"\n",
              "    stroke=\"#663399\" stroke-width=\"2\" />\n",
              "<line x1=\"168.8\" y1=\"67.5\" x2=\"162.5\" y2=\"78.3\"\n",
              "    stroke=\"#663399\" stroke-width=\"2\" />\n",
              "<line x1=\"162.5\" y1=\"78.3\" x2=\"150.0\" y2=\"100.0\"\n",
              "    stroke=\"#663399\" stroke-width=\"2\" />\n",
              "<line x1=\"150.0\" y1=\"100.0\" x2=\"200.0\" y2=\"100.0\"\n",
              "    stroke=\"#663399\" stroke-width=\"2\" />\n",
              "<line x1=\"200.0\" y1=\"100.0\" x2=\"212.5\" y2=\"100.0\"\n",
              "    stroke=\"#663399\" stroke-width=\"2\" />\n",
              "<line x1=\"212.5\" y1=\"100.0\" x2=\"206.2\" y2=\"89.2\"\n",
              "    stroke=\"#663399\" stroke-width=\"2\" />\n",
              "<line x1=\"206.2\" y1=\"89.2\" x2=\"200.0\" y2=\"100.0\"\n",
              "    stroke=\"#663399\" stroke-width=\"2\" />\n",
              "<line x1=\"200.0\" y1=\"100.0\" x2=\"212.5\" y2=\"100.0\"\n",
              "    stroke=\"#663399\" stroke-width=\"2\" />\n",
              "<line x1=\"212.5\" y1=\"100.0\" x2=\"225.0\" y2=\"100.0\"\n",
              "    stroke=\"#663399\" stroke-width=\"2\" />\n",
              "<line x1=\"225.0\" y1=\"100.0\" x2=\"218.8\" y2=\"89.2\"\n",
              "    stroke=\"#663399\" stroke-width=\"2\" />\n",
              "<line x1=\"218.8\" y1=\"89.2\" x2=\"212.5\" y2=\"100.0\"\n",
              "    stroke=\"#663399\" stroke-width=\"2\" />\n",
              "<line x1=\"212.5\" y1=\"100.0\" x2=\"200.0\" y2=\"100.0\"\n",
              "    stroke=\"#663399\" stroke-width=\"2\" />\n",
              "<line x1=\"200.0\" y1=\"100.0\" x2=\"206.2\" y2=\"89.2\"\n",
              "    stroke=\"#663399\" stroke-width=\"2\" />\n",
              "<line x1=\"206.2\" y1=\"89.2\" x2=\"218.8\" y2=\"89.2\"\n",
              "    stroke=\"#663399\" stroke-width=\"2\" />\n",
              "<line x1=\"218.8\" y1=\"89.2\" x2=\"212.5\" y2=\"78.3\"\n",
              "    stroke=\"#663399\" stroke-width=\"2\" />\n",
              "<line x1=\"212.5\" y1=\"78.3\" x2=\"206.2\" y2=\"89.2\"\n",
              "    stroke=\"#663399\" stroke-width=\"2\" />\n",
              "<line x1=\"206.2\" y1=\"89.2\" x2=\"200.0\" y2=\"100.0\"\n",
              "    stroke=\"#663399\" stroke-width=\"2\" />\n",
              "<line x1=\"200.0\" y1=\"100.0\" x2=\"225.0\" y2=\"100.0\"\n",
              "    stroke=\"#663399\" stroke-width=\"2\" />\n",
              "<line x1=\"225.0\" y1=\"100.0\" x2=\"237.5\" y2=\"100.0\"\n",
              "    stroke=\"#663399\" stroke-width=\"2\" />\n",
              "<line x1=\"237.5\" y1=\"100.0\" x2=\"231.2\" y2=\"89.2\"\n",
              "    stroke=\"#663399\" stroke-width=\"2\" />\n",
              "<line x1=\"231.2\" y1=\"89.2\" x2=\"225.0\" y2=\"100.0\"\n",
              "    stroke=\"#663399\" stroke-width=\"2\" />\n",
              "<line x1=\"225.0\" y1=\"100.0\" x2=\"237.5\" y2=\"100.0\"\n",
              "    stroke=\"#663399\" stroke-width=\"2\" />\n",
              "<line x1=\"237.5\" y1=\"100.0\" x2=\"250.0\" y2=\"100.0\"\n",
              "    stroke=\"#663399\" stroke-width=\"2\" />\n",
              "<line x1=\"250.0\" y1=\"100.0\" x2=\"243.8\" y2=\"89.2\"\n",
              "    stroke=\"#663399\" stroke-width=\"2\" />\n",
              "<line x1=\"243.8\" y1=\"89.2\" x2=\"237.5\" y2=\"100.0\"\n",
              "    stroke=\"#663399\" stroke-width=\"2\" />\n",
              "<line x1=\"237.5\" y1=\"100.0\" x2=\"225.0\" y2=\"100.0\"\n",
              "    stroke=\"#663399\" stroke-width=\"2\" />\n",
              "<line x1=\"225.0\" y1=\"100.0\" x2=\"231.2\" y2=\"89.2\"\n",
              "    stroke=\"#663399\" stroke-width=\"2\" />\n",
              "<line x1=\"231.2\" y1=\"89.2\" x2=\"243.8\" y2=\"89.2\"\n",
              "    stroke=\"#663399\" stroke-width=\"2\" />\n",
              "<line x1=\"243.8\" y1=\"89.2\" x2=\"237.5\" y2=\"78.3\"\n",
              "    stroke=\"#663399\" stroke-width=\"2\" />\n",
              "<line x1=\"237.5\" y1=\"78.3\" x2=\"231.2\" y2=\"89.2\"\n",
              "    stroke=\"#663399\" stroke-width=\"2\" />\n",
              "<line x1=\"231.2\" y1=\"89.2\" x2=\"225.0\" y2=\"100.0\"\n",
              "    stroke=\"#663399\" stroke-width=\"2\" />\n",
              "<line x1=\"225.0\" y1=\"100.0\" x2=\"200.0\" y2=\"100.0\"\n",
              "    stroke=\"#663399\" stroke-width=\"2\" />\n",
              "<line x1=\"200.0\" y1=\"100.0\" x2=\"212.5\" y2=\"78.3\"\n",
              "    stroke=\"#663399\" stroke-width=\"2\" />\n",
              "<line x1=\"212.5\" y1=\"78.3\" x2=\"225.0\" y2=\"78.3\"\n",
              "    stroke=\"#663399\" stroke-width=\"2\" />\n",
              "<line x1=\"225.0\" y1=\"78.3\" x2=\"218.8\" y2=\"67.5\"\n",
              "    stroke=\"#663399\" stroke-width=\"2\" />\n",
              "<line x1=\"218.8\" y1=\"67.5\" x2=\"212.5\" y2=\"78.3\"\n",
              "    stroke=\"#663399\" stroke-width=\"2\" />\n",
              "<line x1=\"212.5\" y1=\"78.3\" x2=\"225.0\" y2=\"78.3\"\n",
              "    stroke=\"#663399\" stroke-width=\"2\" />\n",
              "<line x1=\"225.0\" y1=\"78.3\" x2=\"237.5\" y2=\"78.3\"\n",
              "    stroke=\"#663399\" stroke-width=\"2\" />\n",
              "<line x1=\"237.5\" y1=\"78.3\" x2=\"231.2\" y2=\"67.5\"\n",
              "    stroke=\"#663399\" stroke-width=\"2\" />\n",
              "<line x1=\"231.2\" y1=\"67.5\" x2=\"225.0\" y2=\"78.3\"\n",
              "    stroke=\"#663399\" stroke-width=\"2\" />\n",
              "<line x1=\"225.0\" y1=\"78.3\" x2=\"212.5\" y2=\"78.3\"\n",
              "    stroke=\"#663399\" stroke-width=\"2\" />\n",
              "<line x1=\"212.5\" y1=\"78.3\" x2=\"218.8\" y2=\"67.5\"\n",
              "    stroke=\"#663399\" stroke-width=\"2\" />\n",
              "<line x1=\"218.8\" y1=\"67.5\" x2=\"231.2\" y2=\"67.5\"\n",
              "    stroke=\"#663399\" stroke-width=\"2\" />\n",
              "<line x1=\"231.2\" y1=\"67.5\" x2=\"225.0\" y2=\"56.7\"\n",
              "    stroke=\"#663399\" stroke-width=\"2\" />\n",
              "<line x1=\"225.0\" y1=\"56.7\" x2=\"218.8\" y2=\"67.5\"\n",
              "    stroke=\"#663399\" stroke-width=\"2\" />\n",
              "<line x1=\"218.8\" y1=\"67.5\" x2=\"212.5\" y2=\"78.3\"\n",
              "    stroke=\"#663399\" stroke-width=\"2\" />\n",
              "<line x1=\"212.5\" y1=\"78.3\" x2=\"200.0\" y2=\"100.0\"\n",
              "    stroke=\"#663399\" stroke-width=\"2\" />\n",
              "<line x1=\"200.0\" y1=\"100.0\" x2=\"150.0\" y2=\"100.0\"\n",
              "    stroke=\"#663399\" stroke-width=\"2\" />\n",
              "<line x1=\"150.0\" y1=\"100.0\" x2=\"175.0\" y2=\"56.7\"\n",
              "    stroke=\"#663399\" stroke-width=\"2\" />\n",
              "<line x1=\"175.0\" y1=\"56.7\" x2=\"187.5\" y2=\"56.7\"\n",
              "    stroke=\"#663399\" stroke-width=\"2\" />\n",
              "<line x1=\"187.5\" y1=\"56.7\" x2=\"181.2\" y2=\"45.9\"\n",
              "    stroke=\"#663399\" stroke-width=\"2\" />\n",
              "<line x1=\"181.2\" y1=\"45.9\" x2=\"175.0\" y2=\"56.7\"\n",
              "    stroke=\"#663399\" stroke-width=\"2\" />\n",
              "<line x1=\"175.0\" y1=\"56.7\" x2=\"187.5\" y2=\"56.7\"\n",
              "    stroke=\"#663399\" stroke-width=\"2\" />\n",
              "<line x1=\"187.5\" y1=\"56.7\" x2=\"200.0\" y2=\"56.7\"\n",
              "    stroke=\"#663399\" stroke-width=\"2\" />\n",
              "<line x1=\"200.0\" y1=\"56.7\" x2=\"193.8\" y2=\"45.9\"\n",
              "    stroke=\"#663399\" stroke-width=\"2\" />\n",
              "<line x1=\"193.8\" y1=\"45.9\" x2=\"187.5\" y2=\"56.7\"\n",
              "    stroke=\"#663399\" stroke-width=\"2\" />\n",
              "<line x1=\"187.5\" y1=\"56.7\" x2=\"175.0\" y2=\"56.7\"\n",
              "    stroke=\"#663399\" stroke-width=\"2\" />\n",
              "<line x1=\"175.0\" y1=\"56.7\" x2=\"181.2\" y2=\"45.9\"\n",
              "    stroke=\"#663399\" stroke-width=\"2\" />\n",
              "<line x1=\"181.2\" y1=\"45.9\" x2=\"193.8\" y2=\"45.9\"\n",
              "    stroke=\"#663399\" stroke-width=\"2\" />\n",
              "<line x1=\"193.8\" y1=\"45.9\" x2=\"187.5\" y2=\"35.0\"\n",
              "    stroke=\"#663399\" stroke-width=\"2\" />\n",
              "<line x1=\"187.5\" y1=\"35.0\" x2=\"181.2\" y2=\"45.9\"\n",
              "    stroke=\"#663399\" stroke-width=\"2\" />\n",
              "<line x1=\"181.2\" y1=\"45.9\" x2=\"175.0\" y2=\"56.7\"\n",
              "    stroke=\"#663399\" stroke-width=\"2\" />\n",
              "<line x1=\"175.0\" y1=\"56.7\" x2=\"200.0\" y2=\"56.7\"\n",
              "    stroke=\"#663399\" stroke-width=\"2\" />\n",
              "<line x1=\"200.0\" y1=\"56.7\" x2=\"212.5\" y2=\"56.7\"\n",
              "    stroke=\"#663399\" stroke-width=\"2\" />\n",
              "<line x1=\"212.5\" y1=\"56.7\" x2=\"206.2\" y2=\"45.9\"\n",
              "    stroke=\"#663399\" stroke-width=\"2\" />\n",
              "<line x1=\"206.2\" y1=\"45.9\" x2=\"200.0\" y2=\"56.7\"\n",
              "    stroke=\"#663399\" stroke-width=\"2\" />\n",
              "<line x1=\"200.0\" y1=\"56.7\" x2=\"212.5\" y2=\"56.7\"\n",
              "    stroke=\"#663399\" stroke-width=\"2\" />\n",
              "<line x1=\"212.5\" y1=\"56.7\" x2=\"225.0\" y2=\"56.7\"\n",
              "    stroke=\"#663399\" stroke-width=\"2\" />\n",
              "<line x1=\"225.0\" y1=\"56.7\" x2=\"218.8\" y2=\"45.9\"\n",
              "    stroke=\"#663399\" stroke-width=\"2\" />\n",
              "<line x1=\"218.8\" y1=\"45.9\" x2=\"212.5\" y2=\"56.7\"\n",
              "    stroke=\"#663399\" stroke-width=\"2\" />\n",
              "<line x1=\"212.5\" y1=\"56.7\" x2=\"200.0\" y2=\"56.7\"\n",
              "    stroke=\"#663399\" stroke-width=\"2\" />\n",
              "<line x1=\"200.0\" y1=\"56.7\" x2=\"206.2\" y2=\"45.9\"\n",
              "    stroke=\"#663399\" stroke-width=\"2\" />\n",
              "<line x1=\"206.2\" y1=\"45.9\" x2=\"218.8\" y2=\"45.9\"\n",
              "    stroke=\"#663399\" stroke-width=\"2\" />\n",
              "<line x1=\"218.8\" y1=\"45.9\" x2=\"212.5\" y2=\"35.0\"\n",
              "    stroke=\"#663399\" stroke-width=\"2\" />\n",
              "<line x1=\"212.5\" y1=\"35.0\" x2=\"206.2\" y2=\"45.9\"\n",
              "    stroke=\"#663399\" stroke-width=\"2\" />\n",
              "<line x1=\"206.2\" y1=\"45.9\" x2=\"200.0\" y2=\"56.7\"\n",
              "    stroke=\"#663399\" stroke-width=\"2\" />\n",
              "<line x1=\"200.0\" y1=\"56.7\" x2=\"175.0\" y2=\"56.7\"\n",
              "    stroke=\"#663399\" stroke-width=\"2\" />\n",
              "<line x1=\"175.0\" y1=\"56.7\" x2=\"187.5\" y2=\"35.0\"\n",
              "    stroke=\"#663399\" stroke-width=\"2\" />\n",
              "<line x1=\"187.5\" y1=\"35.0\" x2=\"200.0\" y2=\"35.0\"\n",
              "    stroke=\"#663399\" stroke-width=\"2\" />\n",
              "<line x1=\"200.0\" y1=\"35.0\" x2=\"193.8\" y2=\"24.2\"\n",
              "    stroke=\"#663399\" stroke-width=\"2\" />\n",
              "<line x1=\"193.8\" y1=\"24.2\" x2=\"187.5\" y2=\"35.0\"\n",
              "    stroke=\"#663399\" stroke-width=\"2\" />\n",
              "<line x1=\"187.5\" y1=\"35.0\" x2=\"200.0\" y2=\"35.0\"\n",
              "    stroke=\"#663399\" stroke-width=\"2\" />\n",
              "<line x1=\"200.0\" y1=\"35.0\" x2=\"212.5\" y2=\"35.0\"\n",
              "    stroke=\"#663399\" stroke-width=\"2\" />\n",
              "<line x1=\"212.5\" y1=\"35.0\" x2=\"206.2\" y2=\"24.2\"\n",
              "    stroke=\"#663399\" stroke-width=\"2\" />\n",
              "<line x1=\"206.2\" y1=\"24.2\" x2=\"200.0\" y2=\"35.0\"\n",
              "    stroke=\"#663399\" stroke-width=\"2\" />\n",
              "<line x1=\"200.0\" y1=\"35.0\" x2=\"187.5\" y2=\"35.0\"\n",
              "    stroke=\"#663399\" stroke-width=\"2\" />\n",
              "<line x1=\"187.5\" y1=\"35.0\" x2=\"193.8\" y2=\"24.2\"\n",
              "    stroke=\"#663399\" stroke-width=\"2\" />\n",
              "<line x1=\"193.8\" y1=\"24.2\" x2=\"206.2\" y2=\"24.2\"\n",
              "    stroke=\"#663399\" stroke-width=\"2\" />\n",
              "<line x1=\"206.2\" y1=\"24.2\" x2=\"200.0\" y2=\"13.4\"\n",
              "    stroke=\"#663399\" stroke-width=\"2\" />\n",
              "<line x1=\"200.0\" y1=\"13.4\" x2=\"193.8\" y2=\"24.2\"\n",
              "    stroke=\"#663399\" stroke-width=\"2\" />\n",
              "<line x1=\"193.8\" y1=\"24.2\" x2=\"187.5\" y2=\"35.0\"\n",
              "    stroke=\"#663399\" stroke-width=\"2\" />\n",
              "<line x1=\"187.5\" y1=\"35.0\" x2=\"175.0\" y2=\"56.7\"\n",
              "    stroke=\"#663399\" stroke-width=\"2\" />\n",
              "<line x1=\"175.0\" y1=\"56.7\" x2=\"150.0\" y2=\"100.0\"\n",
              "    stroke=\"#663399\" stroke-width=\"2\" />\n",
              "\n",
              "<g transform=\"rotate(-90.0,150.0,100.0) translate(150.0, 100.0)\">\n",
              "    <circle stroke=\"#63A375\" stroke-width=\"2\" fill=\"transparent\" r=\"5.5\" cx=\"0\" cy=\"0\"/>\n",
              "    <polygon points=\"0,12 2,9 -2,9\" style=\"fill:#63A375;stroke:#63A375;stroke-width:2\"/>\n",
              "</g>\n",
              "\n",
              "</svg>"
            ]
          },
          "metadata": {}
        }
      ],
      "source": [
        "make_turtle(delay=0.05, height=200)\n",
        "\n",
        "draw_sierpinski(100, 3)"
      ]
    },
    {
      "cell_type": "markdown",
      "id": "a7f4edf8",
      "metadata": {
        "tags": [],
        "id": "a7f4edf8"
      },
      "source": [
        "[Think Python: 3rd Edition](https://allendowney.github.io/ThinkPython/index.html)\n",
        "\n",
        "Copyright 2024 [Allen B. Downey](https://allendowney.com)\n",
        "\n",
        "Code license: [MIT License](https://mit-license.org/)\n",
        "\n",
        "Text license: [Creative Commons Attribution-NonCommercial-ShareAlike 4.0 International](https://creativecommons.org/licenses/by-nc-sa/4.0/)"
      ]
    }
  ],
  "metadata": {
    "celltoolbar": "Tags",
    "kernelspec": {
      "display_name": "Python 3 (ipykernel)",
      "language": "python",
      "name": "python3"
    },
    "language_info": {
      "codemirror_mode": {
        "name": "ipython",
        "version": 3
      },
      "file_extension": ".py",
      "mimetype": "text/x-python",
      "name": "python",
      "nbconvert_exporter": "python",
      "pygments_lexer": "ipython3",
      "version": "3.10.11"
    },
    "colab": {
      "provenance": [],
      "include_colab_link": true
    }
  },
  "nbformat": 4,
  "nbformat_minor": 5
}